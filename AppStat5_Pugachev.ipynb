{
 "cells": [
  {
   "cell_type": "markdown",
   "metadata": {},
   "source": [
    "# Сокращение размерности"
   ]
  },
  {
   "cell_type": "markdown",
   "metadata": {},
   "source": [
    "### EM алгоритм"
   ]
  },
  {
   "cell_type": "markdown",
   "metadata": {},
   "source": [
    "Напомним, как выглядит $EM$ алгоритм. \n",
    "\n",
    "$$\n",
    "\\log p(x|\\theta) = \\int q(z)\\log p(x|\\theta)dz = \\int q(z)\\log\\dfrac{p(x,z|\\theta)}{p(z|x,\\theta)}dz = \\int q(z)\\log\\dfrac{p(x,z|\\theta)}{q(z)}dz+\\int q(z)\\log\\dfrac{q(z)}{p(z|x,\\theta)}dz = \\mathcal{L}(q,\\theta)+KL(q(z)|p(z|x,\\theta))\n",
    "$$\n",
    "\n",
    "** E-step ** \n",
    "$$ q(z)^{(n+1)} = p(z|x,\\theta^{(n)}) $$\n",
    "** M-step ** \n",
    "$$ \\theta^{(n+1)} = \\max\\limits_{\\theta} \\mathcal{L}(q^{(n+1)},\\theta) $$"
   ]
  },
  {
   "cell_type": "markdown",
   "metadata": {},
   "source": [
    "### PCA как модель с латентными пременными"
   ]
  },
  {
   "cell_type": "markdown",
   "metadata": {},
   "source": [
    "Процесс генерации данных в модели PCA выглядит следующим образом:"
   ]
  },
  {
   "cell_type": "markdown",
   "metadata": {},
   "source": [
    "![Генеративный процесс](pca_illustration.png \"Генеративный процесс\")"
   ]
  },
  {
   "cell_type": "markdown",
   "metadata": {},
   "source": [
    "Таким образом, мы получаем модель:"
   ]
  },
  {
   "cell_type": "markdown",
   "metadata": {},
   "source": [
    "\\begin{equation}P(X,T|W,\\mu,\\sigma^2) = \\prod\\limits_{n=1}^{N}p(x_n,t_n|W,\\mu,\\sigma^2) = \\prod\\limits_{n=1}^{N}\\mathcal{N}(x_n|Wt_n+\\mu,\\sigma^2I)\\mathcal{N}(t_n|0,I)\n",
    "\\end{equation}"
   ]
  },
  {
   "cell_type": "markdown",
   "metadata": {},
   "source": [
    "** Задание 1. ** (5 баллов) Выпишите E и M шаги для модели PCA."
   ]
  },
  {
   "cell_type": "markdown",
   "metadata": {},
   "source": [
    "\n",
    "На $E$-шаге $EM$ алгоритма происходит вычисление математических ожиданий. На $M$-шаге происходит максимизация функции правдоподобия.\n",
    "\n",
    "Рассмотрим совместное распределение элементов $t_j, x_j$:\n",
    "\n",
    "$p(t_j,x_j) = p(t_j|x_j)p(x_j) = \\left(2\\pi\\sigma^2\\right)^{-d/2} \\exp\\left(-\\dfrac{1}{2\\sigma^2}||t_j - Wx_j - \\mu ||^2\\right)(2\\pi)^{-1/2}\\exp\\left(-\\dfrac{1}{2}x_j^Tx_j\\right)$\n",
    "\n",
    "Получаем следующее полное совместное распределение $T$, $X$:\n",
    "\n",
    "$p(T,X) = \\prod\\limits_{j=1}^{N}p(t_j,x_j) = \\left(2\\pi\\sigma^2\\right)^{-Nd/2}\\exp\\left(-\\dfrac{1}{2\\sigma^2}\\sum\\limits_{j=1}^{N}||t_j - Wx_j - \\mu||^2\\right)(2\\pi)^{-N/2}\\exp\\left(-\\dfrac{1}{2}\\sum\\limits_{j=1}^{N}x_j^Tx_j\\right)$\n",
    "\n",
    "Рассмотрим логарифм правдоподобия условного полного совместного распределения:\n",
    "\n",
    "$\\ell = \\ln\\left(p(T,X | W,\\mu, \\sigma^2)\\right) = -\\dfrac{N}{2}(1+d)\\ln(2\\pi) - \\dfrac{Nd}{2}\\ln(\\sigma^2) - \\dfrac{1}{2\\sigma^2}\\left(\\sum\\limits_{j=1}^{N}||t_j - Wx_j - \\mu||^2\\right) - \\dfrac{1}{2}\\left(\\sum\\limits_{j=1}^{N}x_j^Tx_j\\right)$\n",
    "\n",
    "Посчитаем распределение $x_j$ при условии $t_j$ по формуле Байеса:\n",
    "\n",
    "$p(x_j|t_j) = (2\\pi)^{-q/2}|\\sigma^{-2}M|^{1/2}\\exp\\left(-\\dfrac{1}{2}\\left(x_j-M^{-1}W^T(t_j - \\mu)\\right)^T(\\sigma^{-2}M)\\left(x_j-M^{-1}W^T(t_j - \\mu)\\right)\\right)$\n",
    "\n",
    "где $M = W^TW+\\sigma^2I$ - ковариационная матрица.\n",
    "\n",
    "Получаем, что $p(x_j|t_j)$ распределена нормально:\n",
    "\n",
    "$p(x_j|t_j) \\sim \\mathcal{N}\\left(M^{-1}W^T(t_j-\\mu), \\sigma^2M^{-1}\\right)$\n",
    "\n",
    "Считаем матожидание логарифма правдоподобия:\n",
    "\n",
    "$\\mathbb{E}\\ell = -\\dfrac{1}{2}(1+d)\\ln(2\\pi)-\\dfrac{d}{2}\\ln(\\sigma^2) - \\dfrac{1}{2\\sigma^2}tr\\big((T-\\mu e_N^T)(T-\\mu e_N^T)^T - 2(T-\\mu e_N^T)\\mathbb{E}(X)^T W^T + W\\mathbb{E}(XX^T) W^T\\big) + \\dfrac{1}{2}tr\\left(\\mathbb{E}(XX^T)\\right)$, где\n",
    "\n",
    "$\\mathbb{E}(X)  = M^{-1}W^T\\left(T-\\mu e_N^T\\right)$\n",
    "\n",
    "$\\mathbb{E}(XX^T) = \\sigma^2M^{-1}+\\mathbb{E}(X) \\mathbb{E}(X)^T$\n",
    "\n",
    "где $\\mu \\in \\mathbb{R}^d$ - вектор средних, $e_N$ - вектор с $N$ единицами\n",
    "\n",
    "Приравнивая к нулю производную логарифма правдоподобия получаем следующие оценки:\n",
    "\n",
    "$\\widetilde{W} = SW\\left(\\sigma^2 I + M^{-1}W^TSW\\right)^{-1}$\n",
    "\n",
    "$\\widetilde{\\sigma} = \\dfrac{1}{d}tr\\left(S - SWM^{-1}\\widetilde{W}^T\\right)$\n",
    "\n",
    "где $S = \\dfrac{1}{N}\\left(T-\\mu e_N^T\\right)\\left(T-\\mu e_N^T\\right)^T$\n",
    "\n",
    "Получаем следующие шаги $EM$ алгоритма:\n",
    "\n",
    "$E$-шаг:\n",
    "\n",
    "$X   = \\left(W^TW\\right)^{-1}W^T\\left(T-\\mu e_N^T\\right)$\n",
    "\n",
    "$M$-шаг:\n",
    "\n",
    "$\\widetilde{W} = \\left(T-\\mu e_N^T\\right)X^T\\left(XX^T\\right)^{-1}$"
   ]
  },
  {
   "cell_type": "markdown",
   "metadata": {},
   "source": [
    "** Задание 2. ** (5 баллов) Реализуйте EM алгоритм для модели PCA"
   ]
  },
  {
   "cell_type": "code",
   "execution_count": 24,
   "metadata": {},
   "outputs": [],
   "source": [
    "import numpy as np\n",
    "from numpy.linalg import inv\n",
    "\n",
    "# будем совершать Е и М шаги до сходимости\n",
    "\n",
    "def EMPCA(X,W,T,mu, N):\n",
    "    X = np.array(X)\n",
    "    W = np.array(W)\n",
    "    T = np.array(T)\n",
    "    mu = np.array(mu)\n",
    "    e = np.ones((N,1))\n",
    "    \n",
    "    X_new = np.dot(inv(np.dot(W.T, W)), W.T)\n",
    "    X_new = np.dot(X_new, T - np.dot(mu, e))\n",
    "    \n",
    "    W_new = np.dot(T - np.dot(mu, e), X_new.T)\n",
    "    W_new = np.dot(W_new, inv(np.dot(X_new, X_new.T)))\n",
    "    \n",
    "    if np.isclose(W_new, W):\n",
    "        return W_new\n",
    "    else:\n",
    "        EMPCA(X_new, W_new, T, mu, N)"
   ]
  },
  {
   "cell_type": "markdown",
   "metadata": {
    "collapsed": true
   },
   "source": [
    "** Задание 3. ** (10 баллов) Используя свою реализацию метода PCA, решите задачу восстанавления давления по профилю крыла."
   ]
  },
  {
   "cell_type": "code",
   "execution_count": 138,
   "metadata": {},
   "outputs": [],
   "source": [
    "import pandas as pd\n",
    "import numpy as np\n",
    "import math\n",
    "from sklearn.decomposition import PCA\n",
    "from sklearn.model_selection import train_test_split\n",
    "\n",
    "data = pd.read_csv(\"A2P.txt\", header=None, sep=' ')\n",
    "\n",
    "data = data.drop(114, axis=1)\n",
    "\n",
    "newdata = np.array(data)\n",
    "\n",
    "X_train, X_test, y_train, y_test = train_test_split(newdata, newdata, test_size=0.25)\n",
    "\n",
    "profile = X_train[:,:57]\n",
    "pressure = X_train[:,57:]"
   ]
  },
  {
   "cell_type": "code",
   "execution_count": 139,
   "metadata": {},
   "outputs": [],
   "source": [
    "def Algorithm(profile, pressure, N):\n",
    "    pca = PCA(n_components=N)\n",
    "    pca.fit(profile)\n",
    "    profile_comp = pca.components_\n",
    "\n",
    "    pca = PCA(n_components=N)\n",
    "    pca.fit(pressure)\n",
    "    pressure_comp = pca.components_\n",
    "\n",
    "    components = np.concatenate((profile_comp, pressure_comp), axis=1)\n",
    "\n",
    "    means = np.mean(X_train, axis=0)\n",
    "\n",
    "    X_train_norm = np.zeros((X_train.shape))\n",
    "\n",
    "    for i in range(len(X_train)):\n",
    "        X_train_norm[i] = X_train_norm[i] - means\n",
    "\n",
    "    X_train_chosen = X_train_norm[:N]\n",
    "\n",
    "    lambdas = np.zeros(N)\n",
    "\n",
    "    for i in range(N):\n",
    "        lambdas[i] = np.dot(X_train_chosen[i], components[i])\n",
    "\n",
    "    profile_means = np.mean(profile, axis=0)\n",
    "    pressure_means = np.mean(pressure, axis=0)\n",
    "\n",
    "    sum_A = 0\n",
    "    sum_P = 0\n",
    "\n",
    "    profile_comp_trunc = profile_comp[:,:N]\n",
    "    pressure_comp_trunc = pressure_comp[:,:N]\n",
    "\n",
    "    for i in range(N):\n",
    "        sum_A = sum_A + lambdas[i]*profile_comp_trunc[i]\n",
    "\n",
    "    for i in range(N):\n",
    "        sum_P = sum_P + lambdas[i]*pressure_comp_trunc[i]\n",
    "\n",
    "    A_star = profile_means[:N] + sum_A\n",
    "    P_star = pressure_means[:N] + sum_P\n",
    "\n",
    "    # ---\n",
    "\n",
    "    E = profile_comp.T\n",
    "\n",
    "    E_pseudo = np.linalg.pinv(E)\n",
    "\n",
    "    profile_norm = np.zeros((profile.shape))\n",
    "\n",
    "    for i in range(N):\n",
    "        profile_norm[i] = profile[i] - profile_means[i]\n",
    "\n",
    "    profile_chosen = profile_norm[:N]\n",
    "\n",
    "    lambdas_new = np.dot(E_pseudo, profile_chosen.T)\n",
    "    \n",
    "    lambdas_final = lambdas_new[0]\n",
    "\n",
    "    lambdas_final.shape\n",
    "\n",
    "    P_star_new = 0\n",
    "\n",
    "    for i in range(N):\n",
    "        P_star_new = P_star_new + lambdas_final[i]*pressure_comp[i]\n",
    "\n",
    "    P_star_new = P_star_new + pressure_means\n",
    "\n",
    "    P_star_new = P_star_new[:N]\n",
    "    \n",
    "    error = math.sqrt(np.linalg.norm(pressure[:N].mean(axis=1) - P_star_new)/N)\n",
    "    \n",
    "    return error\n"
   ]
  },
  {
   "cell_type": "code",
   "execution_count": 141,
   "metadata": {},
   "outputs": [
    {
     "name": "stdout",
     "output_type": "stream",
     "text": [
      "Populating the interactive namespace from numpy and matplotlib\n"
     ]
    },
    {
     "data": {
      "image/png": "[encoded data removed]",
      "text/plain": [
       "<matplotlib.figure.Figure at 0x1fc72b6e400>"
      ]
     },
     "metadata": {},
     "output_type": "display_data"
    }
   ],
   "source": [
    "%pylab inline\n",
    "\n",
    "X = np.arange(1,51)\n",
    "Y = []\n",
    "\n",
    "for i in X:\n",
    "    Y.append(Algorithm(profile, pressure, i))\n",
    "\n",
    "plt.figure(figsize=(15, 8))\n",
    "plt.title('График зависимости средней ошибки от размерности сжатия', size=15)\n",
    "plt.plot(X, Y)\n",
    "plt.legend()\n",
    "plt.grid()\n",
    "plt.xlabel('Размерность сжатия', size=15)\n",
    "plt.ylabel('Значение ошибки', size=15)\n",
    "plt.show()"
   ]
  },
  {
   "cell_type": "markdown",
   "metadata": {},
   "source": [
    "Скачать данные со страницы курса. https://yadi.sk/i/065iNGXp3QYv5n\n",
    "\n",
    "Данные представляют собой матрицу размера $397\\times114$; в каждой\n",
    "строке находится подвектор, описывающий профиль (первые 57\n",
    "координат), и подвектор, описывающий соответствующее распределение\n",
    "давления (следующие 57 координат). Задача состоит в том, чтобы на\n",
    "основании метода главных компонент построить алгоритм, позволяющий\n",
    "восстанавливать распределение давления по профилю. Опишем алгоритм\n",
    "обучения и алгоритм восстановления. Пусть ${\\bf A}\\in\\mathbb{R}^{57}$ --\n",
    "вектор, описывающий профиль, а ${\\bf P}\\in\\mathbb{R}^{57}$ -- вектор,\n",
    "описывающий распределение давления. Дана обучающая выборка $({\\bf\n",
    "A}_i,{\\bf P}_i)_{i=1}^N$ (взять в качестве обучающей выборки 75%\n",
    "случайно выбранных строк из матрицы данных; остальные 25%\n",
    "использовать в качестве тестового множества данных).\n",
    "\n",
    "Алгоритм обучения состоит из следующих шагов:\n",
    "\n",
    "\n",
    "1. По данным $({\\bf A}_i,{\\bf P}_i)_{i=1}^N$ оцениваются первые\n",
    "$d$ (параметр алгоритма) главных компонент ${\\bf e}_1,\\ldots,{\\bf\n",
    "e}_d$, где ${\\bf e}_i\\in\\mathbb{R}^{114}$. \n",
    "2. Каждый из векторов ${\\bf e}_i,i=1,\\ldots,d$ представляется как объединение двух подвекторов\n",
    "${\\bf e}_i = ({\\bf e}_i^A\\in\\mathbb{R}^{57},{\\bf\n",
    "e}_i^P\\in\\mathbb{R}^{57}),i=1,\\ldots,d$, соответствующих описанию профиля\n",
    "и распределению давления соответственно.\n",
    "\n",
    "\n",
    "Преобразование произвольного объединенного вектора ${\\bf Z} =\n",
    "({\\bf A},{\\bf P})$ в сжатое описание ${\\bf\\lambda}=(\\lambda_1,\\ldots,\\lambda_d)$ происходит согласно\n",
    "следующей формуле:\n",
    "\n",
    "$$\n",
    "\\lambda_i = \\left( {\\bf Z}-{\\bf Z}_{\\mathrm{mean}},{\\bf e}_i\\right),\n",
    "i=1,\\ldots,d,\n",
    "$$\n",
    "\n",
    "где ${\\bf Z}_{\\mathrm{mean}} = \\frac{1}{N}\\sum_{k=1}^N {\\bf Z}_k$,\n",
    "${\\bf Z}_k = ({\\bf A}_k,{\\bf P}_k)$ (выборочное среднее;\n",
    "подсчитывается по обучающей выборке). Восстановления подвекторов\n",
    "${\\bf A}$ и ${\\bf P}$ объединенного вектора ${\\bf Z} = ({\\bf\n",
    "A},{\\bf P})$ по сжатому описанию ${\\bf\n",
    "\\lambda}=(\\lambda_1,\\ldots,\\lambda_d)$ происходит согласно\n",
    "формулам\n",
    "\n",
    "$$\n",
    "{\\bf A}^*({\\bf \\lambda}) = {\\bf A}_{\\mathrm{mean}} + \\sum_{i=1}^d\\lambda_i{\\bf e}_i^A,\\,{\\bf\n",
    "P}^*({\\bf \\lambda}) ={\\bf P}_{\\mathrm{mean}} + \\sum_{i=1}^d\\lambda_i{\\bf e}_i^P.\n",
    "$$\n",
    "\n",
    "\n",
    "Алгоритм восстановления давления ${\\bf P}$ по профилю ${\\bf A}$\n",
    "может быть описан следующим образом:\n",
    "\n",
    "\n",
    "1. Для заданного профиля ${\\bf A}$ определяются такие ${\\bf\n",
    "\\lambda}=(\\lambda_1,\\ldots,\\lambda_d)$, что $\\|{\\bf A}^*({\\bf\n",
    "\\lambda})-{\\bf A}\\|_{2}^2$ принимает минимальное значение (такое\n",
    "значение ${\\bf \\lambda}$ подсчитывается с помощью псевдообращения\n",
    "матрицы $E=[{\\bf e}_1^A,\\ldots,{\\bf e}_d^A]$, то есть ${\\bf\n",
    "\\lambda} = E^{+}\\left({\\bf A}-{\\bf A}_{\\mathrm{mean}}\\right)$, где $E^+$ -- псевдообратная матрица).\n",
    "2. По вычисленному вектору ${\\bf\n",
    "\\lambda}$ оценивается давление согласно формуле \\[${\\bf P}^*({\\bf\n",
    "\\lambda}) = {\\bf P}_{\\mathrm{mean}} + \\sum_{i=1}^d\\lambda_i{\\bf e}_i^P.$\n",
    "\\]\n",
    "\n",
    "Задача состоит в том, чтобы реализовать предложенный алгоритм;\n",
    "подсчитать график зависимости средней ошибки восстановления\n",
    "векторов давлений из тестовой выборки от размерности сжатия $d$;\n",
    "нарисовать несколько восстановленных графиков давления (для\n",
    "нескольких разных профилей) с наложением истинных значений\n",
    "давления. Ошибка между набором векторов $({\\bf P}_i)_{i=1}^M$ и\n",
    "восстановленными векторами $({\\bf P}^*_i)_{i=1}^M$ оценивается\n",
    "согласно формуле $\\sqrt{\\frac{1}{M}\\sum_{i=1}^M\\|{\\bf P}_i-{\\bf P}^*_i\\|^2}$, где\n",
    "$\\|\\cdot\\|$ -- евклидово расстояние"
   ]
  },
  {
   "cell_type": "code",
   "execution_count": null,
   "metadata": {},
   "outputs": [],
   "source": []
  }
 ],
 "metadata": {
  "kernelspec": {
   "display_name": "Python 3",
   "language": "python",
   "name": "python3"
  },
  "language_info": {
   "codemirror_mode": {
    "name": "ipython",
    "version": 3
   },
   "file_extension": ".py",
   "mimetype": "text/x-python",
   "name": "python",
   "nbconvert_exporter": "python",
   "pygments_lexer": "ipython3",
   "version": "3.5.2"
  }
 },
 "nbformat": 4,
 "nbformat_minor": 2
}
