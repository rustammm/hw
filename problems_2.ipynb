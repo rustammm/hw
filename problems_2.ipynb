{
 "cells": [
  {
   "cell_type": "markdown",
   "metadata": {},
   "source": [
    "# Домашнее задание 2"
   ]
  },
  {
   "cell_type": "markdown",
   "metadata": {},
   "source": [
    "### Задание 1"
   ]
  },
  {
   "cell_type": "markdown",
   "metadata": {},
   "source": [
    "Пусть $X_1, ..., X_n \\sim$  Gamma$(\\alpha, \\beta)$. Тогда\n",
    "\n",
    "$\\mathbb{E}(X_1) = \\alpha \\beta$\n",
    "\n",
    "$\\mathbb{E}(X_1^2) = \\mathbb{V}X_1 + (\\mathbb{E}X_1)^2 = \\alpha\\beta^2 + \\alpha^2\\beta^2 = \\alpha(\\alpha + 1)\\beta^2$\n",
    "\n",
    "Согласно методу моментов получаем систему для нахождения нужных оценок:\n",
    "\n",
    "$\\begin{cases}\n",
    "\\overline{X}_n = \\hat\\alpha \\hat\\beta \\\\\n",
    "\\overline{X^2}_n = \\hat\\alpha(\\hat\\alpha + 1)\\hat\\beta^2\n",
    "\\end{cases}\n",
    "$\n",
    "$\\Rightarrow$\n",
    "$\n",
    "\\begin{cases}\n",
    "\\dfrac{\\overline{X}_n}{\\hat\\alpha} =  \\hat\\beta \\\\\n",
    "\\overline{X^2}_n = \\hat\\alpha(\\hat\\alpha + 1)\\dfrac{(\\overline{X}_n)^2}{\\hat\\alpha^2}\n",
    "\\end{cases}$\n",
    "$\\Rightarrow$\n",
    "$\n",
    "\\begin{cases}\n",
    "\\dfrac{\\overline{X}_n}{\\hat\\alpha} =  \\hat\\beta \\\\\n",
    "\\overline{X^2}_n = (1 + \\dfrac1{\\hat\\alpha})(\\overline{X}_n)^2\n",
    "\\end{cases}$\n",
    "$\\Rightarrow$\n",
    "$\n",
    "\\begin{cases}\n",
    "\\dfrac{\\overline{X}_n}{\\hat\\alpha} =  \\hat\\beta \\\\\n",
    "\\dfrac{\\overline{X^2}_n}{\\overline{X}_n^2} - 1= \\dfrac1{\\hat\\alpha}\n",
    "\\end{cases}$\n",
    "$\\Rightarrow$\n",
    "$\n",
    "\\begin{cases}\n",
    "\\hat\\alpha = \\dfrac{(\\overline{X}_n)^2}{\\overline{X^2}_n - (\\overline{X}_n)^2} \\\\\n",
    "\\hat\\beta = \\dfrac{\\overline{X^2}_n - (\\overline{X}_n)^2}{\\overline{X}_n}\n",
    "\\end{cases}$"
   ]
  },
  {
   "cell_type": "markdown",
   "metadata": {},
   "source": [
    "### Задание 2"
   ]
  },
  {
   "cell_type": "markdown",
   "metadata": {},
   "source": [
    "**a)** Поскольку ОМП не зависит от параметризации, то ОМП для $\\psi = p_1 - p_2$ будет равна $\\hat\\psi = \\hat{p}_1 - \\hat{p}_2$, где $\\hat{p}_1$ и $\\hat{p}_2$ $-$ оценки максимального правдоподобия для $p_1$ и $p_2$ соответственно.\n",
    "\n",
    "Имеем случайный вектор $(X_1, X_2)$, где $X_1$ и $X_2$ независимые с.в. и $X_1 \\sim Bin(n_1, p_1)$, $X_2 \\sim Bin(n_2, p_2)$. Найдем ОМП $p_1$ и $p_2$.\n",
    "\n",
    "Многомерное распределение вероятности имеет вид  $f((x, y), (p_1, p_2)) = C_{n_1}^{x}p_1^{x}(1-p_1)^{n_1-x} C_{n_2}^{y}p_2^{y}(1-p_2)^{n_2-y}$, поскольку компоненты вектора независимы.\n",
    "\n",
    "Функция правдоподобия: $\\mathcal{L}_n(p_1, p_2) = f((X_1, X_2), (p_1, p_2)) = C_{n_1}^{X_1}p_1^{X_1}(1-p_1)^{n_1-X_1} C_{n_2}^{X_2}p_2^{X_2}(1-p_2)^{n_2-X_2}$\n",
    "\n",
    "Логарифм функции правдоподобия: $l_n(p_1, p_2) = \\left[\\ln(C_{n_1}^{X_1}) + X_1 \\ln (p_1) + (n_1-X_1) \\ln (1 - p_1)\\right] + \\left[\\ln(C_{n_2}^{X_2}) + X_2 \\ln (p_2) + (n_2-X_2) \\ln (1 - p_2)\\right]$\n",
    "\n",
    "Заметим, что логарифм функции правдоподобия разбивается на сумму двух функций, каждая из которых зависит лишь от одного $p_i$. Поэтому можно минимизировать каждую из функций в отдельности. Также учтем, что эти функции симметричны с точностью до замены индексов).\n",
    "\n",
    "Найдем производные (в формулах ниже $i = 1, 2$):\n",
    "\n",
    "$$\\dfrac{\\partial l_n(p_1, p_2)}{\\partial p_i} = \\dfrac{X_i}{p_i} - \\dfrac{n_i -X_i}{1-p_i} = \\dfrac{X_i - X_ip_i - n_ip_i + X_ip_i}{p_i(1-p_i)} = \\dfrac{X_i - n_ip_i}{p_i(1-p_i)}$$\n",
    "\n",
    "$$\\dfrac{\\partial ^2 l_n(p_1, p_2)}{\\partial p_i^2} = - \\dfrac{X_i}{p_i^2} - \\dfrac{n_i -X_i}{(1-p_i)^2} < 0$$\n",
    "\n",
    "Последнее неравенство  следует из того, что $0 \\leq X_i \\leq n_i$.\n",
    "\n",
    "Поэтому искомые ОМП $\\hat{p}_1 = \\dfrac{X_1}{n_1}$ и $\\hat{p}_2 = \\dfrac{X_2}{n_2}$.\n",
    "\n",
    "Значит, $\\hat\\psi = \\hat{p}_1 - \\hat{p}_2 = \\dfrac{X_1}{n_1} - \\dfrac{X_2}{n_2}$"
   ]
  },
  {
   "cell_type": "markdown",
   "metadata": {},
   "source": [
    "**b)**\n",
    "$$\\mathbb{E} \\left[ \\dfrac{\\partial ^2 l_n(p_1, p_2)}{\\partial p_i^2} \\right] \n",
    "= - \\mathbb{E} \\left[\\dfrac{X_i}{p_i^2} - \\dfrac{n_i -X_i}{(1-p_i)^2}\\right]=\n",
    " - \\dfrac{\\mathbb{E}X_i}{p_i^2} - \\dfrac{n_i -\\mathbb{E}X_i}{(1-p_i)^2} = \n",
    " - \\dfrac{n_ip_i}{p_i^2} - \\dfrac{n_i -n_ip_i}{(1-p_i)^2} =\n",
    " - \\dfrac{n_i}{p_i} - \\dfrac{n_i}{(1-p_i)} = - \\dfrac{n_i}{p_i(1-p_i)}$$\n",
    " \n",
    " $$\\mathbb{E} \\left[ \\dfrac{\\partial ^2 l_n(p_1, p_2)}{\\partial p_0 \\partial p_1} \\right] =\n",
    " \\mathbb{E} \\left[ \\dfrac{\\partial ^2 l_n(p_1, p_2)}{\\partial p_1 \\partial p_0} \\right] = \n",
    " \\mathbb{E} \\dfrac{\\partial}{\\partial p_0} \\left[ \\dfrac{X_1}{p_1^2} - \\dfrac{n_1 -X_1}{(1-p_1)^2}\\right] = 0$$\n",
    " \n",
    "Значит, информационная матрица Фишера $I(p_1, p_2) = \n",
    "\\begin{pmatrix}\n",
    "\\dfrac{n_1}{p_1(1-p_1)} & 0 \\\\\n",
    "0 & \\dfrac{n_2}{p_2(1-p_2)}\n",
    "\\end{pmatrix}$"
   ]
  },
  {
   "cell_type": "markdown",
   "metadata": {},
   "source": [
    "** с) ** Найдем асимптотическую стандартную ошибку, используя многопараметрический дельта-метод. Здесь $\\psi = g(p_1, p_2) = p_1 - p_2$.\n",
    "\n",
    "$\\hat{se}(\\hat\\psi) = \\sqrt{(\\hat\\nabla g)^T \\hat{J}_n (\\hat\\nabla g)}$, где $\\hat{J}_n = J_n(\\hat{p}_1, \\hat{p}_2)$, $\\hat\\nabla g = \\nabla g(p_1 = \\hat{p}_1, p_2 =\\hat{p}_2)$\n",
    "\n",
    "$J_n(p_1, p_2) =  I_n^{-1}(p_1, p_2) = \n",
    "\\begin{pmatrix}\n",
    "\\dfrac{p_1(1-p_1)}{n_1} & 0 \\\\\n",
    "0 & \\dfrac{p_2(1-p_2)}{n_2}\n",
    "\\end{pmatrix}$\n",
    "\n",
    "$\\nabla g(p_1, p_2) = \n",
    "\\begin{pmatrix}\n",
    "1\\\\\n",
    "-1\n",
    "\\end{pmatrix}$\n",
    "\n",
    "Тогда $\\hat{se}(\\hat\\psi) = \\sqrt{\\dfrac{\\hat p_1(1-\\hat p_1)}{n_1} + \\dfrac{\\hat p_2(1-\\hat p_2)}{n_2}}$"
   ]
  },
  {
   "cell_type": "markdown",
   "metadata": {},
   "source": [
    "** d) **"
   ]
  },
  {
   "cell_type": "code",
   "execution_count": 111,
   "metadata": {},
   "outputs": [
    {
     "name": "stdout",
     "output_type": "stream",
     "text": [
      "ОМП для ψ: 0.06\n",
      "90% доверительный интервал для ψ:  [-0.00904, 0.12904]\n"
     ]
    }
   ],
   "source": [
    "from scipy import stats as st\n",
    "\n",
    "n1 = 200\n",
    "n2 = 200\n",
    "X1 = 160\n",
    "X2 = 148\n",
    "\n",
    "p1 = X1/n1  # оценки вероятностей из пункта а\n",
    "p2 = X2/n2\n",
    "MLE = p1 - p2\n",
    "\n",
    "se = (p1*(1-p1)/n1 + p2*(1-p2)/n2) ** .5  # оценка стандартного отклонения из пункта c\n",
    "z = st.norm.ppf(.05, 0, 1) # вычислим квантиль\n",
    "print(\"ОМП для ψ: %.2f\" % MLE)\n",
    "print(\"90% \" + \"доверительный интервал для ψ:  [%.5f\" % (MLE + z * se) + \", %.5f]\" % (MLE - z * se) )"
   ]
  },
  {
   "cell_type": "code",
   "execution_count": 115,
   "metadata": {},
   "outputs": [
    {
     "name": "stdout",
     "output_type": "stream",
     "text": [
      "Эфронов 90% доверительный интервал для ψ:  [-0.00500, 0.11500]\n"
     ]
    }
   ],
   "source": [
    "import numpy as np\n",
    "\n",
    "N = 50  # количество элементов в изначальной выборке\n",
    "alpha = 0.1\n",
    "bin_data1 = np.random.binomial(n1, p1, N)\n",
    "bin_data2 = np.random.binomial(n2, p2, N)\n",
    "bin_data = np.array([[bin_data1[i], bin_data2[i]] for i in range(N)])\n",
    "\n",
    "B = 50000  # фиксируем количество бутстреп-выборок\n",
    "values = []\n",
    "for i in range (B):\n",
    "    boot_data = bin_data[np.random.randint(0, N, 1)]  # генерируем бутстреп-выборку\n",
    "    values += [boot_data[0][0]/n1 - boot_data[0][1]/n2]\n",
    "values = np.sort(np.array(values))\n",
    "\n",
    "Xq1 = int(B * alpha/2 - 1)\n",
    "Xq2 = int(B * (1 - alpha/2))\n",
    "print(\"Эфронов 90% \" + \"доверительный интервал для ψ:  [%.5f\" % values[Xq1] + \", %.5f]\" % values[Xq2] )"
   ]
  },
  {
   "cell_type": "markdown",
   "metadata": {},
   "source": [
    "### Задание 3"
   ]
  },
  {
   "cell_type": "markdown",
   "metadata": {},
   "source": [
    "**a)** Поскольку ОМП не зависит от параметризации, то ОМП для $\\sigma^2$ будет равна квадрату ОМП для $\\sigma$. Используя то же свойство, ОМП для $\\tau$ [$95\\%$ квантили $\\mathcal{N}(\\mu, \\sigma^2)$] является $95\\%$ квантиль распределения $\\mathcal{N}(\\hat\\mu, \\hat\\sigma^2)$, где $\\hat\\mu$ и $\\hat\\sigma$ $-$ ОМП для $\\mu$ и $\\sigma$ соответственно. Значит, искомая оценка максимального правдоподобия $\\hat\\tau = \\hat\\mu + 1.645\\hat\\sigma$ (из таблицы нормального распределения).\n",
    "\n",
    "Найдем $\\hat\\mu$ и $\\hat\\sigma$. Функция правдоподобия имеет вид:\n",
    "$$\\mathcal{L}_n(\\mu, \\sigma) = \\prod\\limits^{n}_{i = 1} \\dfrac1{\\sqrt{2\\pi}\\sigma} \\exp \\left\\lbrace -\\frac{(X_i -\\mu)^2}{2\\sigma^2} \\right\\rbrace = \\dfrac1{(\\sqrt{2\\pi}\\sigma)^n} \\exp \\left\\lbrace -\\sum\\limits^{n}_{i = 1} \\frac{(X_i -\\mu)^2}{2\\sigma^2} \\right\\rbrace$$\n",
    "\n",
    "Логарифмическая функция правдоподобия:\n",
    "$$l_n(\\mu, \\sigma) = -\\dfrac{n}{2}\\ln(2\\pi)-n \\ln\\sigma -\\sum\\limits^{n}_{i = 1} \\frac{(X_i -\\mu)^2}{2\\sigma^2}$$\n",
    "\n",
    "Откуда $$\\dfrac{\\partial l_n}{\\partial \\mu} = 2 \\sum\\limits^{n}_{i = 1} \\frac{X_i -\\mu}{2\\sigma^2} = \\frac{\\sum\\limits^{n}_{i = 1}X_i - n\\mu}{\\sigma^2}$$\n",
    "$$\\dfrac{\\partial l_n}{\\partial \\sigma} = -\\dfrac{n}{\\sigma}  +\\sum\\limits^{n}_{i = 1} \\frac{(X_i -\\mu)^2}{\\sigma^3}$$\n",
    "\n",
    "$$ \\frac{\\partial^2 l_n}{\\partial \\mu^2} = \\frac{\\partial}{\\partial \\mu} \\left( \\frac{\\sum\\limits^{n}_{i = 1}X_i - n\\mu}{\\sigma^2} \\right)= \\frac{n}{\\sigma^2} = -\\frac{n}{\\sigma^2} < 0$$\n",
    "$$\\frac{\\partial^2 l_n}{\\partial \\mu \\partial \\sigma} =\n",
    "\\frac{\\partial^2 l_n}{\\partial \\sigma \\partial \\mu} =\n",
    "\\frac{\\partial}{\\partial \\sigma} \\left(\\frac{-\\sum\\limits^{n}_{i = 1}X_i + n\\mu}{2\\sigma^2}\\right) = \n",
    "\\frac{\\sum\\limits^{n}_{i = 1}X_i - n\\mu}{\\sigma^3}=\n",
    " [\\text{при } \\mu = \\overline{X}]= 0$$\n",
    "$$\\frac{\\partial^2 l_n}{\\partial \\sigma^2} = \\frac{n}{\\sigma^2} - 3 \\sum\\limits^{n}_{i = 1} \\frac{(X_i -\\mu)^2}{\\sigma^4} = \n",
    "\\left[\\text{при } \\sigma = \\sqrt{\\sum\\limits^{n}_{i = 1} \\frac{(X_i -\\mu)^2}{n}}\\right]  = \\frac{n}{\\sigma^2} - 3\\frac{n\\sigma^2}{\\sigma^4} = -\\frac{2n}{\\sigma^2} < 0$$\n",
    "\n",
    "Значит, искомые ОМП (выражаем через выборочное среднее $\\overline{X}$ и выборочную дисперсию $S^2$):\n",
    "$$\\hat\\mu = \\dfrac{\\sum\\limits^{n}_{i = 1}X_i}{n} = \\overline{X}$$\n",
    "$$\\hat\\sigma = \\sqrt{\\sum\\limits^{n}_{i = 1} \\frac{(X_i -\\mu)^2}{n}} = S$$\n",
    "$$\\hat\\tau = \\overline{X} + 1.645 S$$"
   ]
  },
  {
   "cell_type": "markdown",
   "metadata": {},
   "source": [
    "**b)** Найдем доверительный интервал, используя многопараметрический дельта-метод. Здесь $\\tau = g(\\mu, \\sigma) = \\mu + 1.645\\sigma$.\n",
    "\n",
    "Сначала найдем $\\hat{se}(\\hat\\tau) = \\sqrt{(\\hat\\nabla g)^T \\hat{J}_n (\\hat\\nabla g)}$, где $\\hat{J}_n = J_n(\\hat\\mu, \\hat\\sigma)$, $\\hat\\nabla g = \\nabla g(\\mu = \\hat\\mu, \\sigma = \\hat\\sigma)$.\n",
    "\n",
    "Используя производные, посчитанные выше, получим:\n",
    "$$\\mathbb{E} \\left[ \\frac{\\partial^2 l_n}{\\partial \\mu^2} \\right] = -\\frac{n}{\\sigma^2} $$\n",
    "$$\\mathbb{E} \\left[ \\frac{\\partial^2 l_n}{\\partial \\mu \\partial \\sigma} \\right] =\n",
    "\\mathbb{E} \\left[ \\frac{\\partial^2 l_n}{\\partial \\sigma \\partial \\mu}\\right] =\n",
    "\\mathbb{E} \\left[\\frac{\\sum\\limits^{n}_{i = 1}X_i - n\\mu}{\\sigma^3} \\right] =\n",
    "\\frac{\\mathbb{E} \\left[ \\sum\\limits^{n}_{i = 1}X_i \\right] - n\\mu}{\\sigma^3} = 0$$\n",
    "$$\\mathbb{E} \\left[ \\frac{\\partial^2 l_n}{\\partial \\sigma^2} \\right] =\n",
    "\\frac{n}{\\sigma^2} - 3\\mathbb{E} \\left[ \\sum\\limits^{n}_{i = 1} \\frac{(X_i -\\mu)^2}{\\sigma^4} \\right] =\n",
    "\\frac{n}{\\sigma^2} - 3\\frac{n\\sigma^2}{\\sigma^4}  = -\\frac{2n}{\\sigma^2}$$\n",
    "\n",
    "Значит, информационная матрица Фишера $I_n(\\mu, \\sigma) = \n",
    "\\begin{pmatrix}\n",
    "\\dfrac{n}{\\sigma^2} & 0 \\\\\n",
    "0 & \\dfrac{2n}{\\sigma^2}\n",
    "\\end{pmatrix}$\n",
    "\n",
    "Поэтому $J_n(\\mu, \\sigma) =  I_n^{-1}(\\mu, \\sigma) = \n",
    "\\begin{pmatrix}\n",
    "\\dfrac{\\sigma^2}{n} & 0 \\\\\n",
    "0 & \\dfrac{\\sigma^2}{2n}\n",
    "\\end{pmatrix}\n",
    "= \\dfrac1{n}\n",
    "\\begin{pmatrix}\n",
    "\\sigma^2 & 0 \\\\\n",
    "0 & \\dfrac{\\sigma^2}{2}\n",
    "\\end{pmatrix}$\n",
    "\n",
    "$\\nabla g(\\mu, \\sigma) = \n",
    "\\begin{pmatrix}\n",
    "1\\\\\n",
    "1.645\n",
    "\\end{pmatrix}$\n",
    "\n",
    "Таким образом, получим $\\hat{se}(\\hat\\tau) = \\sqrt {\\dfrac1{n} (\\hat\\sigma^2 + \\dfrac{\\hat\\sigma^2}{2}1.645^2)} = \\dfrac{\\hat\\sigma}{\\sqrt{n}} \\sqrt{1 + \\dfrac{1.645^2}{2}}$\n",
    "\n",
    "Тогда  границы приближенного $1-\\alpha$ доверительного интервала для $τ$ имеют вид:\n",
    "$$\\overline{X} + 1.645 S \\pm \\sqrt{1 + \\dfrac{1.645^2}{2}}z_{\\alpha/2}\\dfrac{S}{\\sqrt{n}}$$"
   ]
  },
  {
   "cell_type": "markdown",
   "metadata": {},
   "source": [
    "**c)** Используем результаты из пунктов a) и b)"
   ]
  },
  {
   "cell_type": "code",
   "execution_count": 191,
   "metadata": {},
   "outputs": [
    {
     "name": "stdout",
     "output_type": "stream",
     "text": [
      "ОМП для τ: 4.18068\n",
      "Cтандартная ошибка: 0.55761\n"
     ]
    }
   ],
   "source": [
    "import numpy as np\n",
    "\n",
    "data = np.array([3.23, -2.50, 1.88, -0.68, 4.43, 0.17,\n",
    "1.03, -0.07, -0.01, 0.76, 1.76, 3.18,\n",
    "0.33, -0.31, 0.30, -0.61, 1.52, 5.43,\n",
    "1.54, 2.28, 0.42, 2.33, -1.03, 4.00,\n",
    "0.39])\n",
    "\n",
    "MLE = data.mean() + 1.645 * data.std()\n",
    "se = (1 + 1.645**2/2)**.5 * data.std()/(data.size**.5)\n",
    "\n",
    "print(\"ОМП для τ: %.5f\" % MLE)\n",
    "print(\"Cтандартная ошибка: %.5f\" % se)"
   ]
  },
  {
   "cell_type": "code",
   "execution_count": 199,
   "metadata": {},
   "outputs": [
    {
     "name": "stdout",
     "output_type": "stream",
     "text": [
      "Cтандартная ошибка, вычисленная при помощи бутстрепа: 0.61551\n"
     ]
    }
   ],
   "source": [
    "N = 50  # фиксируем количество элементов в изначальной выборке\n",
    "norm_data =  np.random.normal(data.mean(), data.var(), N)\n",
    "B = 50000  # фиксируем количество бутстреп-выборок\n",
    "values = []\n",
    "for i in range (B):\n",
    "    boot_data = np.random.choice(norm_data, norm_data.size)  # генерируем бутстреп-выборку\n",
    "    values += [boot_data.mean() + 1.645 * boot_data.std()]\n",
    "print(\"Cтандартная ошибка, вычисленная при помощи бутстрепа: %.5f\" % (np.array(values).std()))"
   ]
  },
  {
   "cell_type": "markdown",
   "metadata": {},
   "source": [
    "### Задание 4"
   ]
  },
  {
   "cell_type": "markdown",
   "metadata": {},
   "source": [
    "** a) **Заметим, что $\\psi = P(Y_1 = 1) = P(X_1 > 0) = P(-X_1 < 0) = P(-X_1+\\theta < \\theta) = Ф(\\theta)$, поскольку $X_1 \\sim \\mathcal{N}(\\theta, 1) \\Rightarrow -X_1 + \\theta \\sim \\mathcal{N}(0, 1)$\n",
    "\n",
    "Поскольку ОМП не зависит от параметризации, то ОМП для $\\psi = Ф(\\theta)$ будет равна $\\hat \\psi = Ф(\\hat \\theta)$, где $\\hat \\theta$ $-$ ОМП для $\\theta$.\n",
    "\n",
    "Найдем $\\hat\\theta$. Функция правдоподобия имеет вид:\n",
    "$$\\mathcal{L}_n(\\theta) = \\prod\\limits^{n}_{i = 1} \\dfrac1{\\sqrt{2\\pi}} \\exp \\left\\lbrace -\\frac{(X_i -\\theta)^2}{2} \\right\\rbrace = \\dfrac1{(\\sqrt{2\\pi})^n} \\exp \\left\\lbrace -\\sum\\limits^{n}_{i = 1} \\frac{(X_i -\\theta)^2}{2} \\right\\rbrace$$\n",
    "\n",
    "Логарифмическая функция правдоподобия:\n",
    "$$l_n(\\theta) = -\\dfrac{n}{2}\\ln(2\\pi) -\\sum\\limits^{n}_{i = 1} \\frac{(X_i -\\theta)^2}{2}$$\n",
    "\n",
    "Откуда $$\\dfrac{\\partial l_n}{\\partial \\theta} = 2 \\sum\\limits^{n}_{i = 1} \\frac{X_i -\\theta}{2} = \\sum\\limits^{n}_{i = 1}X_i - n\\theta$$\n",
    "\n",
    "\n",
    "$$ \\frac{\\partial^2 l_n}{\\partial \\theta^2} = \\frac{\\partial}{\\partial \\theta} \\left( \\sum\\limits^{n}_{i = 1}X_i - n\\theta \\right) = -n  < 0$$\n",
    "\n",
    "\n",
    "Значит искомые ОМП $\\hat\\theta = \\overline X$ и $\\hat\\psi = Ф(\\overline X)$."
   ]
  },
  {
   "cell_type": "markdown",
   "metadata": {},
   "source": [
    "** b) ** Согласно дельта-методу, поскольку $Ф$ является гладкой функцией, то $$\\hat{se}(\\hat\\psi) = |Ф'(\\hat \\theta)|\\hat{se}(\\hat \\theta) = \\dfrac1{\\sqrt{2\\pi}} \\exp \\left\\{-\\dfrac{\\hat\\theta^2}{2}\\right\\} \\dfrac{1}{\\sqrt n} = \n",
    "\\dfrac1{\\sqrt{2\\pi n e^{\\left(\\hat\\theta ^2\\right)}}} = \\dfrac1{\\sqrt{2\\pi n e^{\\left(\\overline X ^2\\right)}}}$$\n",
    "\n",
    "Получили  приближенный $95\\%$ доверительный интервал для $\\psi$:\n",
    "$$\\left[Ф(\\overline X) - \\dfrac{1.96}{\\sqrt{2\\pi n e^{\\left(\\overline X ^2\\right)}}}, Ф(\\overline X) + \\dfrac{1.96}{\\sqrt{2\\pi n e^{\\left(\\overline X ^2\\right)}}}\\right]$$"
   ]
  },
  {
   "cell_type": "markdown",
   "metadata": {},
   "source": [
    "** c) ** По закону больших чисел $\\sum\\limits^{n}_{i = 1} \\dfrac{Y_i}{n}$ является состоятельной оценкой для $\\mathbb E Y_1$.\n",
    "\n",
    "Поэтому $\\tilde \\psi = \\sum\\limits^{n}_{i = 1} \\dfrac{Y_i}{n} \\xrightarrow[n \\to \\infty]{\\mathbb{P}} \\mathbb E Y_1 = \\mathbb E I\\{X_1 > 0\\} = P(X_1 > 0) = P(Y_1 = 1) = \\psi$, а значит $\\tilde \\psi$ является состоятельной оценкой для $\\psi$, ЧТД"
   ]
  },
  {
   "cell_type": "markdown",
   "metadata": {},
   "source": [
    "** d) ** Согласно дельта-методу, поскольку $Ф$ является гладкой функцией, то $${se}(\\hat\\psi) = |Ф'(\\theta)|{se}(\\theta) = \\dfrac1{\\sqrt{2\\pi}} \\exp \\left\\{-\\dfrac{\\theta^2}{2}\\right\\} \\dfrac{1}{\\sqrt n} = \\dfrac1{\\sqrt{2\\pi n e^{\\left(\\theta ^2\\right)}}} $$\n",
    "\n",
    "Из независимости $Y_i$: $$\\mathbb{V} \\tilde\\psi = \\mathbb{V}\\overline Y = n\\dfrac{\\mathbb{V}Y_i}{n^2} = \\dfrac{\\mathbb E Y_1^2 - (\\mathbb E Y_1)^2}{n} = \\dfrac{\\mathbb E Y_1 - (\\mathbb E Y_1)^2}{n} = \\text{[по пунктам a) и с)]} = \\dfrac{Ф(\\theta) - (Ф(\\theta))^2}{n} = \\dfrac{Ф(\\theta)(1 - Ф(\\theta))}{n}  = \\dfrac{Ф(\\theta)Ф(-\\theta)}{n}$$\n",
    "\n",
    "Поэтому $se(\\tilde\\psi) = \\sqrt{\\dfrac{Ф(\\theta)Ф(-\\theta)}{n}}$\n",
    "\n",
    "Таким образом:\n",
    "$$\\sqrt n (\\tilde\\psi - \\psi) \\rightsquigarrow \\mathcal{N}(0, Ф(\\theta)Ф(-\\theta))$$\n",
    "$$\\sqrt n (\\hat\\psi - \\psi) \\rightsquigarrow \\mathcal{N}\\left(0, \\dfrac1{2\\pi e^{\\left(\\theta ^2\\right)}}\\right)$$\n",
    "\n",
    "Значит, искомая относительная асимптотическая эффективность $\\tilde\\psi$ к $\\hat\\psi$:\n",
    "$$ARE(\\tilde\\psi, \\hat\\psi) = \\dfrac1{2\\pi e^{\\left(\\theta ^2\\right)} Ф(\\theta)Ф(-\\theta)}$$"
   ]
  },
  {
   "cell_type": "markdown",
   "metadata": {},
   "source": [
    "** e) ** Аналогично пункту c) по закону больших чисел и из непрерывности функции $Ф$ получим:\n",
    "\n",
    "$$\\hat \\psi = Ф\\left(\\sum\\limits^{n}_{i = 1} \\dfrac{X_i}{n}\\right) \\xrightarrow[n \\to \\infty]{\\mathbb{P}} Ф(\\mathbb E X_1) = P(\\mathbb E X_1 \\geq Z) = P(\\mathbb E X_1 - Z > 0) \\neq P(X_1 > 0) = \\psi$$\n",
    "\n",
    "где $Z \\sim \\mathcal{N}(0, 1)$. Значит, по определению оценка не является состоятельной, ЧТД.\n",
    "\n",
    "Неравенство (в редких случаях все-таки может быть и равенство) следует из предположения, что данные на самом деле не распределены нормально, поэтому распределение $X_1$ отличается от распределения $\\mathbb E X_1 - Z \\sim \\mathcal{N}(\\mathbb E X_1, 1)$.\n",
    "\n",
    "В то же время есть сходимость по вероятности при $n \\to \\infty$ к величине $Ф(\\mathbb E X_1)$."
   ]
  },
  {
   "cell_type": "markdown",
   "metadata": {},
   "source": [
    "### Задание 5"
   ]
  },
  {
   "cell_type": "markdown",
   "metadata": {},
   "source": [
    "** a) ** Функция мощности $W(\\theta) = P_{\\theta} (Y > c) = 1 - P_{\\theta}(X_{(n)} \\leq c) = 1 - P_{\\theta}(X_1 \\leq c, X_2 \\leq c, ..., X_n \\leq c) = 1 - \\prod\\limits^{n}_{i = 1} P_{\\theta}(X_i \\leq c) = \n",
    "\\begin{cases}\n",
    "1 - \\prod\\limits^{n}_{i = 1} 0 = 1, & \\text{если } с < 0 \\\\\n",
    "1 - \\prod\\limits^{n}_{i = 1} \\dfrac{c}{\\theta} = 1 - \\dfrac{c^n}{\\theta^n}, & \\text{если } 0 < c \\leq \\theta \\\\\n",
    "1 - \\prod\\limits^{n}_{i = 1} 1 = 0, & \\text{если } с \\geq \\theta\n",
    "\\end{cases}$"
   ]
  },
  {
   "cell_type": "markdown",
   "metadata": {},
   "source": [
    "** b) ** По определению размер критерия $$\\alpha = \\sup_{\\theta \\in \\Theta_0} W(\\theta)$$\n",
    "\n",
    "Поскольку здесь $\\Theta_0 = \\left\\{\\dfrac1{2}\\right\\}$, то получим условие на искомый параметр $c$ (сразу учтем, что нужная мощность отлична от 0 и 1): $$0.05 = 1 - (2 c)^n \\Rightarrow с = \\dfrac{0.95^{\\frac1{n}}}{2}$$"
   ]
  },
  {
   "cell_type": "markdown",
   "metadata": {},
   "source": [
    "** c) ** В данной задаче критерий размера $\\alpha$, построенный для статистики $Y = X_{(n)}$, имеет вид: $H_0$ отвергается, если $Y > c_{\\alpha}$.\n",
    "\n",
    "Поэтому по теореме из лекций $p$-$value = P_{\\theta_0} (X_{(n)} > 0.48) = $ [ в данном случае $0 < c = 0.48 < 0.5 = \\theta$] $ = 1 - (2 \\cdot 0.48)^{20} \\approx 0.558$\n",
    "\n",
    "Так как $p$-$value > 0.1$, то ничего определенного о гипотезе $H_0$ сказать нельзя."
   ]
  },
  {
   "cell_type": "code",
   "execution_count": 126,
   "metadata": {},
   "outputs": [
    {
     "name": "stdout",
     "output_type": "stream",
     "text": [
      "p-value: 0.55800\n"
     ]
    }
   ],
   "source": [
    "print(\"p-value: %.5f\" % (1-(2 * 0.48)**20))"
   ]
  },
  {
   "cell_type": "markdown",
   "metadata": {},
   "source": [
    "** d) ** Аналогично предыдущему пункту здесь $p$-$value = P_{\\theta_0} (X_{(n)} > 0.52) = $ [ в данном случае $c = 0.52 > 0.5 = \\theta$] $ = 0$. Поэтому гипотеза $H_0$ заведома неверна."
   ]
  },
  {
   "cell_type": "markdown",
   "metadata": {
    "collapsed": true
   },
   "source": [
    "### Задание 6"
   ]
  },
  {
   "cell_type": "markdown",
   "metadata": {},
   "source": [
    "** a) ** Для каждого лекарства рассмотрим выборку $X_1, ..., X_n$, где $n$ количество людей, принимавших данное лекарство. Будем считать, что $X_j$ принимает значение $0$, если у $j$-ого пациента случилось осложнение, иначе $-$ $0$. Тогда $X_i$ $-$ независимые одинаково распределенные случайные величины из распределения Бернулли с параметром $p$.\n",
    "\n",
    "Найдем ОМП для $p$.\n",
    "\n",
    "Функция распределения имеет вид: $f(x, p) = p^x(1-p)^{1-x}$, где $x = 0, 1$\n",
    "\n",
    "Функция правдоподобия:\n",
    "\n",
    "$$\\mathcal{L}_n(p) = \\prod\\limits^{n}_{i = 1} f(X_i, p) = \\prod\\limits^{n}_{i = 1}p^{X_i}(1-p)^{1-X_i} = p ^ {n \\overline X}(1-p)^{n - n \\overline X}$$\n",
    "\n",
    "Логарифм функции правдоподобия:\n",
    "\n",
    "$$l_n(p) = n \\overline X \\ln(p) + (n - n \\overline X) \\ln(1-p)$$\n",
    "$$\\dfrac{\\partial l_n(p)}{\\partial p} = \\dfrac{n \\overline X}{p} - \\dfrac{n - n \\overline X}{1-p} = n \\dfrac{\\overline X - p}{p(1-p)}$$\n",
    "$$\\dfrac{\\partial ^2 l_n(p)}{\\partial p^2} = - \\dfrac{n \\overline X}{p ^ 2} - \\dfrac{n - n \\overline X}{(1-p)^2} < 0$$\n",
    "\n",
    "Последнее неравенство следует из того, что $\\overline X < 1$ (т.к. $X_i <= 1$ $\\forall i$)\n",
    "\n",
    "Откуда искомая оценка $\\hat p$ = $\\overline X$\n",
    "\n",
    "Обозначим вероятность \"успешности\" $i$-го лекарства $p_i$ (в порядке их следования в задании), а \"успешности\" $i$-го по сравнению с Placebo $pl_i = p_i - p_0$\n",
    "\n",
    "Поскольку ОМП не зависит от параметризации, то ОМП для $pl_i = p_i - p_0$ будет равна $\\hat {pl}_i = \\hat{p}_i - \\hat{p}_0$, где $\\hat{p}_i$ и $\\hat{p}_0$ $-$ оценки максимального правдоподобия для $p_i$ и $p_0$ соответственно.\n",
    "\n",
    "Найдем, исходя из этого, оценки \"успешности\" лекарств ($\\hat p_i$) и оценки их \"успешности\" относительно Placebo ($\\hat {pl}_i$)."
   ]
  },
  {
   "cell_type": "code",
   "execution_count": 342,
   "metadata": {},
   "outputs": [
    {
     "data": {
      "text/html": [
       "<div>\n",
       "<style>\n",
       "    .dataframe thead tr:only-child th {\n",
       "        text-align: right;\n",
       "    }\n",
       "\n",
       "    .dataframe thead th {\n",
       "        text-align: left;\n",
       "    }\n",
       "\n",
       "    .dataframe tbody tr th {\n",
       "        vertical-align: top;\n",
       "    }\n",
       "</style>\n",
       "<table border=\"1\" class=\"dataframe\">\n",
       "  <thead>\n",
       "    <tr style=\"text-align: right;\">\n",
       "      <th></th>\n",
       "      <th>Лекарство</th>\n",
       "      <th>Кол-во пациентов</th>\n",
       "      <th>Кол-во осложнений</th>\n",
       "      <th>Оценка успешности</th>\n",
       "      <th>Оценка успешности отн. Placebo</th>\n",
       "    </tr>\n",
       "  </thead>\n",
       "  <tbody>\n",
       "    <tr>\n",
       "      <th>0</th>\n",
       "      <td>Placebo</td>\n",
       "      <td>80</td>\n",
       "      <td>45</td>\n",
       "      <td>0.437500</td>\n",
       "      <td>0.000000</td>\n",
       "    </tr>\n",
       "    <tr>\n",
       "      <th>1</th>\n",
       "      <td>Chlorpromazine</td>\n",
       "      <td>75</td>\n",
       "      <td>26</td>\n",
       "      <td>0.653333</td>\n",
       "      <td>0.215833</td>\n",
       "    </tr>\n",
       "    <tr>\n",
       "      <th>2</th>\n",
       "      <td>Dimenhydrinate</td>\n",
       "      <td>85</td>\n",
       "      <td>52</td>\n",
       "      <td>0.388235</td>\n",
       "      <td>-0.049265</td>\n",
       "    </tr>\n",
       "    <tr>\n",
       "      <th>3</th>\n",
       "      <td>Pentobarbital (100 mg)</td>\n",
       "      <td>67</td>\n",
       "      <td>35</td>\n",
       "      <td>0.477612</td>\n",
       "      <td>0.040112</td>\n",
       "    </tr>\n",
       "    <tr>\n",
       "      <th>4</th>\n",
       "      <td>Pentobarbital (150 mg)</td>\n",
       "      <td>85</td>\n",
       "      <td>37</td>\n",
       "      <td>0.564706</td>\n",
       "      <td>0.127206</td>\n",
       "    </tr>\n",
       "  </tbody>\n",
       "</table>\n",
       "</div>"
      ],
      "text/plain": [
       "                Лекарство  Кол-во пациентов  Кол-во осложнений  \\\n",
       "0                 Placebo                80                 45   \n",
       "1          Chlorpromazine                75                 26   \n",
       "2          Dimenhydrinate                85                 52   \n",
       "3  Pentobarbital (100 mg)                67                 35   \n",
       "4  Pentobarbital (150 mg)                85                 37   \n",
       "\n",
       "   Оценка успешности  Оценка успешности отн. Placebo  \n",
       "0           0.437500                        0.000000  \n",
       "1           0.653333                        0.215833  \n",
       "2           0.388235                       -0.049265  \n",
       "3           0.477612                        0.040112  \n",
       "4           0.564706                        0.127206  "
      ]
     },
     "execution_count": 342,
     "metadata": {},
     "output_type": "execute_result"
    }
   ],
   "source": [
    "import pandas as pd\n",
    "\n",
    "data = pd.DataFrame()\n",
    "data[\"Лекарство\"] = [\"Placebo\", \"Chlorpromazine\", \"Dimenhydrinate\", \"Pentobarbital (100 mg)\", \"Pentobarbital (150 mg)\"]\n",
    "data[\"Кол-во пациентов\"] = [80, 75, 85, 67, 85]\n",
    "data[\"Кол-во осложнений\"] = [45, 26, 52, 35, 37]\n",
    "data[\"Оценка успешности\"] = (data[\"Кол-во пациентов\"] - data[\"Кол-во осложнений\"])/data[\"Кол-во пациентов\"]\n",
    "data[\"Оценка успешности отн. Placebo\"] = data[\"Оценка успешности\"] - data[\"Оценка успешности\"][0]\n",
    "data"
   ]
  },
  {
   "cell_type": "markdown",
   "metadata": {},
   "source": [
    "Протестируем \"успешность\" каждого из лекарств по сравнению с Placebo (кроме него самого) на $5\\%$ уровне значимости. Для этого проверим гипотезы $H_{0i}: pl_i = 0$ против $H_{1i}: pl_i \\neq 0$  по критерию Вальда для $i > 0$.\n",
    "\n",
    "Найдем стандартные ошибки $pl_i$\n",
    "\n",
    "$\\mathbb{V}\\hat{p}_k = $ [из независимости $X_i$ (элементов выборки для $k$-го лекарства)] = $ \\dfrac1{n_k^2} \\sum\\limits^{n_k}_{i = 1} \\mathbb{V}X_i = \\dfrac1{n_k^2} \\sum\\limits^{n_k}_{i = 1} p_k(1-p_k) = \\dfrac1{n_k^2} np_k(1-p_k) = \\dfrac{p_k(1-p_k)}{n_k}$\n",
    "\n",
    "$\\mathbb{V}pl_i =$ [из независимости, т.к. рассматриваем отличные от $0$ индексы]  $=\\mathbb{V}p_i + \\mathbb{V}p_0 = \\dfrac{p_i(1-p_i)}{n_i} + \\dfrac{p_0(1-p_0)}{n_0}$\n",
    "\n",
    "Откуда $\\hat {se} (pl_i) = \\sqrt{\\dfrac{\\hat p_i(1-\\hat p_i)}{n_i} + \\dfrac{\\hat p_0(1-\\hat p_0)}{n_0}}$\n",
    "\n",
    "Теперь можно построить критерий Вальда размера $\\alpha$.\n",
    "\n",
    "$|W_i| = \\left|\\dfrac{\\hat{pl}_i - 0}{\\hat {se}(pl_i)}\\right| = \\left|\\dfrac{\\hat{pl}_i}{\\hat {se}(pl_i)}\\right|$\n",
    "\n",
    "Гипотеза $H_{0i}$ отклоняется, если $|W_i| > z_{\\alpha/2}$"
   ]
  },
  {
   "cell_type": "code",
   "execution_count": 343,
   "metadata": {},
   "outputs": [
    {
     "data": {
      "text/html": [
       "<div>\n",
       "<style>\n",
       "    .dataframe thead tr:only-child th {\n",
       "        text-align: right;\n",
       "    }\n",
       "\n",
       "    .dataframe thead th {\n",
       "        text-align: left;\n",
       "    }\n",
       "\n",
       "    .dataframe tbody tr th {\n",
       "        vertical-align: top;\n",
       "    }\n",
       "</style>\n",
       "<table border=\"1\" class=\"dataframe\">\n",
       "  <thead>\n",
       "    <tr style=\"text-align: right;\">\n",
       "      <th></th>\n",
       "      <th>Лекарство</th>\n",
       "      <th>Кол-во пациентов</th>\n",
       "      <th>Кол-во осложнений</th>\n",
       "      <th>Оценка успешности</th>\n",
       "      <th>Оценка успешности отн. Placebo</th>\n",
       "      <th>Станд. ошибка</th>\n",
       "      <th>Гипотеза принята (Вальд)</th>\n",
       "      <th>p-value</th>\n",
       "    </tr>\n",
       "  </thead>\n",
       "  <tbody>\n",
       "    <tr>\n",
       "      <th>1</th>\n",
       "      <td>Chlorpromazine</td>\n",
       "      <td>75</td>\n",
       "      <td>26</td>\n",
       "      <td>0.653333</td>\n",
       "      <td>0.215833</td>\n",
       "      <td>0.078077</td>\n",
       "      <td>False</td>\n",
       "      <td>0.005703</td>\n",
       "    </tr>\n",
       "    <tr>\n",
       "      <th>2</th>\n",
       "      <td>Dimenhydrinate</td>\n",
       "      <td>85</td>\n",
       "      <td>52</td>\n",
       "      <td>0.388235</td>\n",
       "      <td>-0.049265</td>\n",
       "      <td>0.076618</td>\n",
       "      <td>True</td>\n",
       "      <td>0.520232</td>\n",
       "    </tr>\n",
       "    <tr>\n",
       "      <th>3</th>\n",
       "      <td>Pentobarbital (100 mg)</td>\n",
       "      <td>67</td>\n",
       "      <td>35</td>\n",
       "      <td>0.477612</td>\n",
       "      <td>0.040112</td>\n",
       "      <td>0.082462</td>\n",
       "      <td>True</td>\n",
       "      <td>0.626664</td>\n",
       "    </tr>\n",
       "    <tr>\n",
       "      <th>4</th>\n",
       "      <td>Pentobarbital (150 mg)</td>\n",
       "      <td>85</td>\n",
       "      <td>37</td>\n",
       "      <td>0.564706</td>\n",
       "      <td>0.127206</td>\n",
       "      <td>0.077253</td>\n",
       "      <td>True</td>\n",
       "      <td>0.099639</td>\n",
       "    </tr>\n",
       "  </tbody>\n",
       "</table>\n",
       "</div>"
      ],
      "text/plain": [
       "                Лекарство  Кол-во пациентов  Кол-во осложнений  \\\n",
       "1          Chlorpromazine                75                 26   \n",
       "2          Dimenhydrinate                85                 52   \n",
       "3  Pentobarbital (100 mg)                67                 35   \n",
       "4  Pentobarbital (150 mg)                85                 37   \n",
       "\n",
       "   Оценка успешности  Оценка успешности отн. Placebo  Станд. ошибка  \\\n",
       "1           0.653333                        0.215833       0.078077   \n",
       "2           0.388235                       -0.049265       0.076618   \n",
       "3           0.477612                        0.040112       0.082462   \n",
       "4           0.564706                        0.127206       0.077253   \n",
       "\n",
       "   Гипотеза принята (Вальд)   p-value  \n",
       "1                     False  0.005703  \n",
       "2                      True  0.520232  \n",
       "3                      True  0.626664  \n",
       "4                      True  0.099639  "
      ]
     },
     "execution_count": 343,
     "metadata": {},
     "output_type": "execute_result"
    }
   ],
   "source": [
    "from scipy.stats import norm\n",
    "from math import *\n",
    "\n",
    "z = -norm.ppf(.025, 0, 1)  # найдем квантиль\n",
    "\n",
    "data[\"Станд. ошибка\"] = data[\"Оценка успешности\"]\n",
    "for i in range(5):  # вычислим оценки согласно формулам выше\n",
    "    data.loc[i, \"Станд. ошибка\"] = \\\n",
    "    (data.loc[i, \"Оценка успешности\"]*(1 - data.loc[i, \"Оценка успешности\"])/ data.loc[i, \"Кол-во пациентов\"] +\\\n",
    "     data.loc[0, \"Оценка успешности\"]*(1 - data.loc[0, \"Оценка успешности\"])/data.loc[0, \"Кол-во пациентов\"] )**.5\n",
    "\n",
    "data.drop([0], inplace=True)\n",
    "data[\"Гипотеза принята (Вальд)\"] = (abs(data[\"Оценка успешности отн. Placebo\"]/data[\"Станд. ошибка\"]) <= z)\n",
    "data[\"p-value\"] = 2*norm.cdf(-abs(data[\"Оценка успешности отн. Placebo\"]/data[\"Станд. ошибка\"]))\n",
    "data"
   ]
  },
  {
   "cell_type": "markdown",
   "metadata": {},
   "source": [
    "** b) ** Проверим гипотезы по методам Бонферрони и Benjamini-Hochberg.\n",
    "\n",
    "По теореме из лекций для критерия Вальда $p$-$value \\simeq P(|Z| > |W|) = 2Ф(-|W|)$, где $Z \\sim \\mathcal{N}(0, 1)$."
   ]
  },
  {
   "cell_type": "code",
   "execution_count": 346,
   "metadata": {},
   "outputs": [
    {
     "data": {
      "text/html": [
       "<div>\n",
       "<style>\n",
       "    .dataframe thead tr:only-child th {\n",
       "        text-align: right;\n",
       "    }\n",
       "\n",
       "    .dataframe thead th {\n",
       "        text-align: left;\n",
       "    }\n",
       "\n",
       "    .dataframe tbody tr th {\n",
       "        vertical-align: top;\n",
       "    }\n",
       "</style>\n",
       "<table border=\"1\" class=\"dataframe\">\n",
       "  <thead>\n",
       "    <tr style=\"text-align: right;\">\n",
       "      <th></th>\n",
       "      <th>Лекарство</th>\n",
       "      <th>Кол-во пациентов</th>\n",
       "      <th>Кол-во осложнений</th>\n",
       "      <th>Оценка успешности</th>\n",
       "      <th>Оценка успешности отн. Placebo</th>\n",
       "      <th>Станд. ошибка</th>\n",
       "      <th>Гипотеза принята (Вальд)</th>\n",
       "      <th>p-value</th>\n",
       "      <th>Гипотеза принята (Бонферрони)</th>\n",
       "      <th>Гипотеза принята (Benjamini-Hochberg)</th>\n",
       "    </tr>\n",
       "  </thead>\n",
       "  <tbody>\n",
       "    <tr>\n",
       "      <th>1</th>\n",
       "      <td>Chlorpromazine</td>\n",
       "      <td>75</td>\n",
       "      <td>26</td>\n",
       "      <td>0.653333</td>\n",
       "      <td>0.215833</td>\n",
       "      <td>0.078077</td>\n",
       "      <td>False</td>\n",
       "      <td>0.005703</td>\n",
       "      <td>False</td>\n",
       "      <td>False</td>\n",
       "    </tr>\n",
       "    <tr>\n",
       "      <th>2</th>\n",
       "      <td>Dimenhydrinate</td>\n",
       "      <td>85</td>\n",
       "      <td>52</td>\n",
       "      <td>0.388235</td>\n",
       "      <td>-0.049265</td>\n",
       "      <td>0.076618</td>\n",
       "      <td>True</td>\n",
       "      <td>0.520232</td>\n",
       "      <td>True</td>\n",
       "      <td>True</td>\n",
       "    </tr>\n",
       "    <tr>\n",
       "      <th>3</th>\n",
       "      <td>Pentobarbital (100 mg)</td>\n",
       "      <td>67</td>\n",
       "      <td>35</td>\n",
       "      <td>0.477612</td>\n",
       "      <td>0.040112</td>\n",
       "      <td>0.082462</td>\n",
       "      <td>True</td>\n",
       "      <td>0.626664</td>\n",
       "      <td>True</td>\n",
       "      <td>True</td>\n",
       "    </tr>\n",
       "    <tr>\n",
       "      <th>4</th>\n",
       "      <td>Pentobarbital (150 mg)</td>\n",
       "      <td>85</td>\n",
       "      <td>37</td>\n",
       "      <td>0.564706</td>\n",
       "      <td>0.127206</td>\n",
       "      <td>0.077253</td>\n",
       "      <td>True</td>\n",
       "      <td>0.099639</td>\n",
       "      <td>True</td>\n",
       "      <td>True</td>\n",
       "    </tr>\n",
       "  </tbody>\n",
       "</table>\n",
       "</div>"
      ],
      "text/plain": [
       "                Лекарство  Кол-во пациентов  Кол-во осложнений  \\\n",
       "1          Chlorpromazine                75                 26   \n",
       "2          Dimenhydrinate                85                 52   \n",
       "3  Pentobarbital (100 mg)                67                 35   \n",
       "4  Pentobarbital (150 mg)                85                 37   \n",
       "\n",
       "   Оценка успешности  Оценка успешности отн. Placebo  Станд. ошибка  \\\n",
       "1           0.653333                        0.215833       0.078077   \n",
       "2           0.388235                       -0.049265       0.076618   \n",
       "3           0.477612                        0.040112       0.082462   \n",
       "4           0.564706                        0.127206       0.077253   \n",
       "\n",
       "   Гипотеза принята (Вальд)   p-value  Гипотеза принята (Бонферрони)  \\\n",
       "1                     False  0.005703                          False   \n",
       "2                      True  0.520232                           True   \n",
       "3                      True  0.626664                           True   \n",
       "4                      True  0.099639                           True   \n",
       "\n",
       "   Гипотеза принята (Benjamini-Hochberg)  \n",
       "1                                  False  \n",
       "2                                   True  \n",
       "3                                   True  \n",
       "4                                   True  "
      ]
     },
     "execution_count": 346,
     "metadata": {},
     "output_type": "execute_result"
    }
   ],
   "source": [
    "alpha = 0.05\n",
    "\n",
    "data[\"Гипотеза принята (Бонферрони)\"] = (data[\"p-value\"] > alpha/data.shape[0])\n",
    "\n",
    "pvalues = np.sort(np.array([data[\"p-value\"][i] for i in range(1, data.shape[0] + 1)]))  # все p-values (отсортированные)\n",
    "cm = 1  # т.к. p-values независимы (поскольку независимы лекарства)\n",
    "val_ii = pvalues - np.array([i*alpha/(cm*data.shape[0]) for i in range (1, data.shape[0] + 1)])  # p-values - I_i\n",
    "T = pvalues[np.argmax(val_ii < 0)]  # пороговое значение метода Benjamini-Hochberg\n",
    "data[\"Гипотеза принята (Benjamini-Hochberg)\"] = (data[\"p-value\"] > T)\n",
    "\n",
    "data"
   ]
  },
  {
   "cell_type": "markdown",
   "metadata": {},
   "source": [
    "*P.S.* Можно также посмотреть на знак оценки успешности относительно Placebo для отвергнутых гипотез, откуда видно, что из всех лекарств только Chlorpromazine успешнее Placebo на заданном уровне значимости (для всех тестов)."
   ]
  },
  {
   "cell_type": "markdown",
   "metadata": {},
   "source": [
    "### Задание 7"
   ]
  },
  {
   "cell_type": "markdown",
   "metadata": {},
   "source": [
    "** a) ** Сначала найдем оценку максимального правдоподобия для параметра Пуассоновского распределения.\n",
    "\n",
    "Функция распределения имеет вид: $f(x, \\lambda) = \\dfrac{\\lambda^x}{x!}e^{-\\lambda}$\n",
    "\n",
    "Функция правдоподобия:\n",
    "\n",
    "$$\\mathcal{L}_n(\\lambda) = \\prod\\limits^{n}_{i = 1} f(X_i, \\lambda) = \\prod\\limits^{n}_{i = 1} \\dfrac{\\lambda^{X_i}}{X_i!}e^{-\\lambda} = e^{-n\\lambda} \\dfrac{\\lambda^{n \\overline X}}{\\prod\\limits^{n}_{i = 1} X_i!}$$\n",
    "\n",
    "Логарифм функции правдоподобия:\n",
    "\n",
    "$$\\mathcal{l}_n(\\lambda) = -n\\lambda + n \\overline X \\ln (\\lambda) - \\ln(\\prod\\limits^{n}_{i = 1} X_i!)$$\n",
    "$$\\dfrac{\\partial l_n(\\lambda)}{\\partial \\lambda} = -n + \\dfrac{n \\overline X}{\\lambda}$$\n",
    "$$\\dfrac{\\partial ^2 l_n(\\lambda)}{\\partial \\lambda^2} = - \\dfrac{n \\overline X}{\\lambda ^ 2}$$\n",
    "\n",
    "Единственным корнем $\\dfrac{\\partial l_n(\\lambda)}{\\partial \\lambda} = 0$ является $\\lambda = \\overline X$, и поскольку в этой точке вторая производная отрицательна (т.к. $\\lambda > 0$), то оценка $\\hat \\lambda = \\overline X$ является искомой ОМП. По теореме из лекций оценка ОМП является асимптотически нормальной.\n",
    "\n",
    "Информация Фишера:\n",
    "$$I_n(\\lambda) = - \\mathbb{E}\\dfrac{\\partial ^2 l_n(\\lambda)}{\\partial \\lambda^2} = - \\mathbb{E}\\left[ -\\dfrac{n \\overline X}{\\lambda ^ 2} \\right] = \\dfrac{n \\lambda}{\\lambda ^ 2} = \\dfrac{n}{\\lambda} $$\n",
    "\n",
    "Откуда $\\hat {se} = \\dfrac1{\\sqrt{I_n(\\hat\\lambda)}} = \\sqrt{\\dfrac{\\hat\\lambda}{n}} = \\sqrt{\\dfrac{\\overline X}{n}}$\n",
    "\n",
    "Теперь можно построить критерий Вальда размера $\\alpha$.\n",
    "\n",
    "$|W| = \\left|\\dfrac{\\hat\\lambda - \\lambda_0}{\\hat {se}}\\right| = \\left|\\sqrt{\\dfrac{n}{\\overline X}} (\\overline X - \\lambda_0)\\right|$\n",
    "\n",
    "Искомый критерий: гипотеза $H_0$ отклоняется, если $\\left|\\sqrt{\\dfrac{n}{\\overline X}} (\\overline X - \\lambda_0)\\right| > z_{\\alpha/2}$"
   ]
  },
  {
   "cell_type": "markdown",
   "metadata": {},
   "source": [
    "** b) **"
   ]
  },
  {
   "cell_type": "code",
   "execution_count": 57,
   "metadata": {},
   "outputs": [
    {
     "name": "stdout",
     "output_type": "stream",
     "text": [
      "W: 1.34715, z: 1.95996\n",
      "Гипотеза H_0 принимается\n"
     ]
    }
   ],
   "source": [
    "import numpy as np\n",
    "from scipy import stats as st\n",
    "from math import *\n",
    "\n",
    "lam0 = 1\n",
    "n = 20\n",
    "alpha = 0.05\n",
    "z = -st.norm.ppf(alpha/2, 0, 1) # вычислим квантиль\n",
    "\n",
    "pois_data =  np.random.poisson(lam0, n)\n",
    "W = abs((n/pois_data.mean())**.5 * (pois_data.mean() - lam0))\n",
    "print(\"W: %.5f, \" % W +\"z: %.5f\" % z)\n",
    "if (W > z):\n",
    "    print(\"Гипотеза H_0 отклоняется\")\n",
    "else:\n",
    "    print(\"Гипотеза H_0 принимается\")"
   ]
  },
  {
   "cell_type": "code",
   "execution_count": 55,
   "metadata": {},
   "outputs": [
    {
     "name": "stdout",
     "output_type": "stream",
     "text": [
      "Принята: 9477 раз, отклонена: 523 раз.\n",
      "Доля ошибок 1 рода: 0.05230\n"
     ]
    }
   ],
   "source": [
    "acc = 0\n",
    "den = 0\n",
    "num = 10000\n",
    "for i in range(num):\n",
    "    pois_data =  np.random.poisson(lam0, n)\n",
    "    W = abs((n/pois_data.mean())**.5 * (pois_data.mean() - lam0))\n",
    "    if W <= z:\n",
    "        acc += 1\n",
    "    else:\n",
    "        den += 1\n",
    "print(\"Принята: \" + str(acc) + \" раз, отклонена: \" + str(den) + \" раз.\")\n",
    "print(\"Доля ошибок 1 рода: %.5f\" % (den/num))"
   ]
  },
  {
   "cell_type": "markdown",
   "metadata": {},
   "source": [
    "Доля ошибок первого рода получилась очень близка к $\\alpha = 0.05$."
   ]
  },
  {
   "cell_type": "markdown",
   "metadata": {},
   "source": [
    "### Задание 8"
   ]
  },
  {
   "cell_type": "markdown",
   "metadata": {},
   "source": [
    "Найдем оценку максимального правдоподобия для $p$.\n",
    "\n",
    "Распределение вероятности имеет вид:  $f(x, p) = C_{n}^{x}p^{x}(1-p)^{n-x}$\n",
    "\n",
    "Функция правдоподобия: $\\mathcal{L}_n(p) = \\prod\\limits^{n}_{i = 1} f(X_i, p) = \\prod\\limits^{n}_{i = 1} C_{n}^{X_i}p^{X_i}(1-p)^{n-X_i}$\n",
    "\n",
    "Логарифм функции правдоподобия: $l_n(p) = \\sum\\limits^{n}_{i = 1}\\left[\\ln(C_{n}^{X_i}) + X_i \\ln (p) + (n-X_i) \\ln (1 - p)\\right]$\n",
    "\n",
    "Найдем производные:\n",
    "\n",
    "$$\\dfrac{\\partial l_n(p)}{\\partial p} =  \\sum\\limits^{n}_{i = 1}\\left[\\dfrac{X_i}{p} - \\dfrac{n -X_i}{1-p}\\right] =\\sum\\limits^{n}_{i = 1}\\left[ \\dfrac{X_i - X_ip - np + X_ip}{p(1-p)}\\right] = \\sum\\limits^{n}_{i = 1}\\left[\\dfrac{X_i - np}{p(1-p)}\\right] = \\dfrac{n \\overline X - n^2 p}{p(1-p)}$$\n",
    "\n",
    "$$\\dfrac{\\partial ^2 l_n(p_1, p_2)}{\\partial p_i^2} = \\sum\\limits^{n}_{i = 1}\\left[- \\dfrac{X_i}{p^2} - \\dfrac{n -X_i}{(1-p)^2}\\right] < 0$$\n",
    "\n",
    "Последнее неравенство  следует из того, что $0 \\leq X_i \\leq n$.\n",
    "\n",
    "Поэтому искомая ОМП $\\hat{p} = \\dfrac{\\overline X}{n}$\n",
    "\n",
    "Статистика отношения правдоподобий принимает вид (выразим через $\\hat p$, используя, что $\\overline X = n\\hat p$):\n",
    "\n",
    "$$\\lambda = 2 \\ln \\dfrac{\\mathcal{L}_n(\\hat{p} )}{\\mathcal{L}_n(\\hat{p}_0)} = 2 \\ln \\dfrac{ \\prod\\limits^{n}_{i = 1} C_{n}^{X_i}\\hat{p}^{X_i}(1-\\hat{p})^{n-X_i}} { \\prod\\limits^{n}_{i = 1} C_{n}^{X_i}p_0^{X_i}(1-p_0)^{n-X_i}} = $$\n",
    "$$ = 2 \\ln \\prod\\limits^{n}_{i = 1} \\left({\\dfrac{\\hat{p}}{p_0}}\\right)^{X_i}\\left(\\dfrac{1 - \\hat{p}}{1-p_0}\\right)^{n-X_i} = \n",
    "2 \\ln \\left[\\left({\\dfrac{\\hat{p}}{p_0}}\\right)^{n^2 \\hat p}\\left(\\dfrac{1 - \\hat p}{1-p_0}\\right)^{n^2-n^2 \\hat{p}}\\right] = $$\n",
    "$$ =  2 n^2\\left( \\hat p \\ln \\left(\\dfrac{\\hat p}{p_0}\\right) + (1 - \\hat p) \\ln\\left(\\dfrac{1 - \\hat p}{1-p_0}\\right)\\right)$$\n",
    "\n",
    "Тогда по теореме из лекций для данного критерия $p$-$value \\simeq P(\\chi^2_1 > \\lambda) = P(Z^2 > \\lambda) = P(|Z| > \\sqrt \\lambda) = 2Ф(-\\sqrt \\lambda)$, где $Z \\sim \\mathcal{N}(0, 1)$.\n",
    "\n",
    "Найдем теперь статистику Вальда.\n",
    "\n",
    "Информация Фишера:\n",
    "$$I_n(p) = - \\mathbb{E}\\sum\\limits^{n}_{i = 1}\\left(- \\dfrac{X_i}{p^2} - \\dfrac{n -X_i}{(1-p)^2}\\right) =  \\mathbb{E}\\left[ \\dfrac{n \\overline X}{p ^ 2} + \\dfrac{n^2 - n \\overline X}{(1-p)^2} \\right] = \\dfrac{n^2 p}{p ^ 2} + \\dfrac{n^2 - n^2 p}{(1-p)^2} = \\dfrac{n^2}{p} + \\dfrac{n^2}{1-p} = \\dfrac{n^2}{p(1-p)}$$\n",
    "\n",
    "Откуда $\\hat {se} = \\dfrac1{\\sqrt{I_n(\\hat p)}} = \\dfrac{\\sqrt{\\hat p(1-\\hat p)}}{n}$\n",
    "\n",
    "Значит, статистика Вальда $W = \\dfrac{\\hat p - p_0}{\\hat {se}} = \\dfrac{n(\\hat p - p_0)}{\\sqrt{\\hat p(1-\\hat p)}}$\n",
    "\n",
    "По теореме из лекций для данного критерия $p$-$value \\simeq P(|Z| > |W|) = 2Ф(-|W|)$, где $Z \\sim \\mathcal{N}(0, 1)$.\n",
    "\n",
    "Сравним полученные тесты аналитически, сравнив $p$-$value$. Для этого посмотрим насколько похожи $\\sqrt \\lambda$ и $W$ или, что то же самое, $\\lambda  = n^2\\left( 2\\hat p \\ln \\left(\\dfrac{\\hat p}{p_0}\\right) + 2(1 - \\hat p) \\ln\\left(\\dfrac{1 - \\hat p}{1-p_0}\\right)\\right)$ и $W^2 = n^2\\dfrac{(\\hat p - p_0)^2}{\\hat p(1-\\hat p)}$.\n",
    "\n",
    "Поскольку $\\hat p$ $-$ ОМП для $p$, то она является состоятельной оценкой для $p$, и поэтому $\\hat p \\xrightarrow[n \\to \\infty]{\\mathbb{P}} p$. А значит, при больших $n$: $W^2 \\sim \\lambda \\sim n^2$.\n",
    "\n",
    "Таким образом, построенные тесты очень похожи.\n",
    "\n",
    "Теперь сравним их экспериментально."
   ]
  },
  {
   "cell_type": "code",
   "execution_count": 172,
   "metadata": {},
   "outputs": [
    {
     "name": "stdout",
     "output_type": "stream",
     "text": [
      "p_value критерия отношения правдоподобий: 0.13141, p_value критерия Вальда: 0.13288\n"
     ]
    }
   ],
   "source": [
    "import numpy as np\n",
    "from math import *\n",
    "from scipy.stats import norm\n",
    "\n",
    "N = 200  # количество элементов в выборке\n",
    "p = 0.8\n",
    "bin_data = np.random.binomial(N, p, N)\n",
    "p_est = bin_data.mean()/N\n",
    "p_0 = 0.804\n",
    "\n",
    "p_val_l = 2 * norm.cdf(-(2 * N**2 * (p_est * log(p_est/p_0) + (1-p_est)* log((1- p_est)/(1 - p_0))))** .5)  # для отн. правд.\n",
    "p_val_w = 2 * norm.cdf(- abs(N * (p_est - p_0)/(p_est * (1 - p_est))** .5))  # для Вальда\n",
    "print(\"p_value критерия отношения правдоподобий: %.5f\" % p_val_l + \", p_value критерия Вальда: %.5f\" % p_val_w)"
   ]
  },
  {
   "cell_type": "code",
   "execution_count": 190,
   "metadata": {},
   "outputs": [
    {
     "name": "stdout",
     "output_type": "stream",
     "text": [
      "Средний модуль разности p-values данных тестов: 0.00061\n"
     ]
    }
   ],
   "source": [
    "diff = 0\n",
    "num = 10000  # столько раз будем генерировать данные\n",
    "N = 200  # количество элементов в выборке\n",
    "p = 0.8\n",
    "p_var = np.random.normal(0, 0.005, num)  # построим p_0 с помощью нормального шума\n",
    "pn = np.array([p for _ in range (num)])\n",
    "pn_0 = pn + p_var\n",
    "for i in range (num):\n",
    "    bin_data = np.random.binomial(N, p, N)\n",
    "    p_est = bin_data.mean()/N\n",
    "    p_0 = pn_0[i]\n",
    "    p_val_l = 2 * norm.cdf(-(2 * N**2 * (p_est * log(p_est/p_0) + (1-p_est)* log((1- p_est)/(1 - p_0))))** .5)\n",
    "    p_val_w = 2 * norm.cdf(- abs(N * (p_est - p_0)/(p_est * (1 - p_est))** .5))\n",
    "    diff += abs(p_val_l - p_val_w)\n",
    "print(\"Средний модуль разности p-values данных тестов: %.5f\" % (diff/num))"
   ]
  },
  {
   "cell_type": "markdown",
   "metadata": {},
   "source": [
    "Экспериментально также убедились в том, что построенные критерии работают почти совсем одинаково."
   ]
  }
 ],
 "metadata": {
  "kernelspec": {
   "display_name": "Python 3",
   "language": "python",
   "name": "python3"
  },
  "language_info": {
   "codemirror_mode": {
    "name": "ipython",
    "version": 3
   },
   "file_extension": ".py",
   "mimetype": "text/x-python",
   "name": "python",
   "nbconvert_exporter": "python",
   "pygments_lexer": "ipython3",
   "version": "3.5.2"
  }
 },
 "nbformat": 4,
 "nbformat_minor": 2
}
