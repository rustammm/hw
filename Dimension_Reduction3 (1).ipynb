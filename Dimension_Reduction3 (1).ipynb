{
 "cells": [
  {
   "cell_type": "markdown",
   "metadata": {},
   "source": [
    "# Сокращение размерности"
   ]
  },
  {
   "cell_type": "markdown",
   "metadata": {},
   "source": [
    "### EM алгоритм"
   ]
  },
  {
   "cell_type": "markdown",
   "metadata": {},
   "source": [
    "Напомним, как выглядит $EM$ алгоритм. \n",
    "\n",
    "$$\n",
    "\\log p(x|\\theta) = \\int q(z)\\log p(x|\\theta)dz = \\int q(z)\\log\\dfrac{p(x,z|\\theta)}{p(z|x,\\theta)}dz = \\int q(z)\\log\\dfrac{p(x,z|\\theta)}{q(z)}dz+\\int q(z)\\log\\dfrac{q(z)}{p(z|x,\\theta)}dz = \\mathcal{L}(q,\\theta)+KL(q(z)|p(z|x,\\theta))\n",
    "$$\n",
    "\n",
    "** E-step ** \n",
    "$$ q(z)^{(n+1)} = p(z|x,\\theta^{(n)}) $$\n",
    "** M-step ** \n",
    "$$ \\theta^{(n+1)} = \\max\\limits_{\\theta} \\mathcal{L}(q^{(n+1)},\\theta) $$"
   ]
  },
  {
   "cell_type": "markdown",
   "metadata": {},
   "source": [
    "### PCA как модель с латентными пременными"
   ]
  },
  {
   "cell_type": "markdown",
   "metadata": {},
   "source": [
    "Процесс генерации данных в модели PCA выглядит следующим образом:"
   ]
  },
  {
   "cell_type": "markdown",
   "metadata": {},
   "source": [
    "![Генеративный процесс](pca_illustration.png \"Генеративный процесс\")"
   ]
  },
  {
   "cell_type": "markdown",
   "metadata": {},
   "source": [
    "Таким образом, мы получаем модель:"
   ]
  },
  {
   "cell_type": "markdown",
   "metadata": {},
   "source": [
    "\\begin{equation}P(X,T|W,\\mu,\\sigma^2) = \\prod\\limits_{n=1}^{N}p(x_n,t_n|W,\\mu,\\sigma^2) = \\prod\\limits_{n=1}^{N}\\mathcal{N}(x_n|Wt_n+\\mu,\\sigma^2I)\\mathcal{N}(t_n|0,I)\n",
    "\\end{equation}"
   ]
  },
  {
   "cell_type": "markdown",
   "metadata": {},
   "source": [
    "** Задание 1. ** (5 баллов) Выпишите E и M шаги для модели PCA."
   ]
  },
  {
   "cell_type": "markdown",
   "metadata": {},
   "source": [
    "Необходимо решить задачу максимизации правдоподобия:\n",
    "$$p(X|W, \\mu, \\sigma^2) = \\prod_{n=1}^N p(x_n|W, \\mu, \\sigma^2) \\to \\max_{W,\\mu,\\sigma^2}$$\n",
    "\n",
    "- ### E step\n",
    "\n",
    " $$p(T|X, W, \\mu, \\sigma^2) = \\prod_{n=1}^N p(t_n|x_n, W, \\mu, \\sigma^2)$$\n",
    "\n",
    " $$p(t|x, W, \\mu, \\sigma^2) = \\frac{p(t, x|W, \\mu, \\sigma^2)}{p(x|W,\\mu, \\sigma^2)} = \\frac{p(x|t,W,\\mu,\\sigma^2)p(t)}{\\int p(x|t, W, \\mu, \\sigma^2)p(t)dt}\n",
    "\\stackrel{(1)}{=}\\frac{\\mathcal{N}(x|Wt + \\mu, \\sigma^2I)\\mathcal{N}(t|0,I)}{\\mathcal{N}(x|\\mu, WW^T + \\sigma^2I)}\\stackrel{(2)}{=}\n",
    "\\stackrel{(2)}{=}\\mathcal{N}\\left(t|(W^TW + \\sigma^2I)^{-1}W^T(x-\\mu),(I + \\sigma^{-2}W^TW)^{-1}\\right)$$\n",
    "\n",
    " 1) $\\int p(x|t, W, \\mu, \\sigma^2)p(t)dt$ — свёртка плотностей нормального распределения $\\Rightarrow$ полученная плотность является плотностью нормального распределения. При этом математическое ожидание и дисперсию полученного распределения можно посчитать. Пусть $\\varepsilon \\sim \\mathcal{N}(0, \\sigma^2I)$, тогда:\n",
    " \n",
    " $$\\mathbb{E}x = \\mathbb{E}\\left[Wt + \\mu + \\varepsilon\\right] = \\mu$$\n",
    " $$\\mathbb{V}x = \\mathbb{E}\\left[(x - \\mu)(x - \\mu)^T\\right]\n",
    " =\\mathbb{E}x\\left[(Wt + \\varepsilon)(Wt + \\varepsilon)^T\\right]\n",
    " =W\\mathbb{E}\\left[tt^T\\right]W^T + \\mathbb{E}\\left[\\varepsilon\\varepsilon^T\\right] = WW^T + \\sigma^2I$$\n",
    " \n",
    " 2) $$\\frac{\\mathcal{N}(x|Wt + \\mu, \\sigma^2I)\\mathcal{N}(t|0,I)}{\\mathcal{N}(x|\\mu, WW^T + \\sigma^2I)} \n",
    "     =C_1\\exp\\left(-\\frac{1}{2}C_2\\right)$$\n",
    " \n",
    "    $$C_1 =\\left(\\frac{1}{2\\pi\\sigma^2}\\right)^{\\frac{D}{2}}\\left(\\frac{1}{2\\pi}\\right)^{\\frac{d}{2}} (2\\pi)^{\\frac{D}{2}}\\left|WW^T+\\sigma^2 I\\right|^{\\frac{1}{2}} = \\left(\\frac{1}{2\\pi}\\right)^{\\frac{d}{2}}\\left|I+\\sigma^{-2}WW^T\\right|^{\\frac{1}{2}}$$\n",
    " \n",
    "- ### M step\n",
    "\n",
    "$$\\mu_{\\text{new}} = \\frac{1}{N}\\sum_{n=1}^N x_n$$\n",
    "\n",
    "$$W_{\\text{new}} = \\left(\\sum_{n=1}^N(x_n - \\mu_{\\text{new}})\\mathbb{E}t_n^T\\right)\\left(\\sum_{n=1}^N\\mathbb{E}t_nt_n^T\\right)^{-1}$$\n",
    "\n",
    "$$\\sigma^2_{\\text{new}} = \\frac{1}{ND}\\sum_{n=1}^N \\left((x_n - \\mu_{\\text{new}})^T(x_n - \\mu_{\\text{new}}) - 2\\mathbb{E}t_n^TW^T_{\\text{new}}(x_n - \\mu_{\\text{new}}) + \\text{tr} W_{\\text{new}}^TW_{\\text{new}}\\mathbb{E}t_nt_n^T\\right)$$\n",
    "\n",
    "Здесь $\\mathbb{E}t_n$ и $\\mathbb{E}t_nt_n^T$, считаются с помощью распределения, полученного в E-step."
   ]
  },
  {
   "cell_type": "markdown",
   "metadata": {},
   "source": [
    "** Задание 2. ** (5 баллов) Реализуйте EM алгоритм для модели PCA"
   ]
  },
  {
   "cell_type": "markdown",
   "metadata": {},
   "source": [
    "Т.к. $\\mu$ не изменяется на итерациях, центрируем данные и будет считать $\\mu=0$."
   ]
  },
  {
   "cell_type": "code",
   "execution_count": 4,
   "metadata": {},
   "outputs": [],
   "source": [
    "from sklearn.preprocessing import StandardScaler\n",
    "import numpy as np\n",
    "\n",
    "class EM_encoder:\n",
    "    def __init__(self, d, max_iter=100):\n",
    "        self.scaler = StandardScaler(with_std=False)\n",
    "        self.W = None\n",
    "        self.sigma2 = None\n",
    "        self.d = d\n",
    "        self.max_iter = max_iter\n",
    "        \n",
    "    def make_step(self, X):\n",
    "        # E-step\n",
    "        M = np.linalg.inv(self.W.T @ self.W + self.sigma2* np.identity(self.d))\n",
    "        Sigma = self.sigma2 * M\n",
    "        means = np.apply_along_axis(lambda x:M @ self.W.T @ x, 1, X)\n",
    "        \n",
    "        # M-step\n",
    "        self.W = sum(X[i][:,np.newaxis] @ means[i][:,np.newaxis].T for i in range(X.shape[0]))\\\n",
    "               @ np.linalg.inv(X.shape[0] * Sigma + sum(mean[:,np.newaxis] @ mean[:,np.newaxis].T\n",
    "                                                        for mean in means))\n",
    "\n",
    "        self.sigma2 = sum((X[i]**2).sum() - 2 * means[i][:,np.newaxis].T @ self.W.T @ X[i][:,np.newaxis]\n",
    "                          + np.trace(self.W.T @ self.W @ (Sigma + means[i][:,np.newaxis] @ means[i][:,np.newaxis].T))\n",
    "                              for i in range(X.shape[0])) / X.size\n",
    "        \n",
    "    def fit(self, X, W=None, sigma2=None):\n",
    "        if W is None:\n",
    "            self.W = np.random.uniform(0, 1, (X.shape[1], self.d))\n",
    "        else:\n",
    "            self.W = W\n",
    "        if sigma2 is None:\n",
    "            self.sigma2 = 1\n",
    "        else:\n",
    "            self.sigma2 = sigma2\n",
    "            \n",
    "        X_copy = self.scaler.fit_transform(X)\n",
    "        for i in range(self.max_iter):\n",
    "            self.make_step(X_copy)\n",
    "            \n",
    "    def transform(self, X):\n",
    "        return np.apply_along_axis(lambda x:np.linalg.inv(self.sigma2 + self.W.T @ self.W)\\\n",
    "                                            @ self.W.T @ x,\n",
    "                                   1, self.scaler.transform(X))"
   ]
  },
  {
   "cell_type": "code",
   "execution_count": 6,
   "metadata": {},
   "outputs": [
    {
     "data": {
      "image/png": "[encoded data removed]",
      "text/plain": [
       "<matplotlib.figure.Figure at 0x7f13013794e0>"
      ]
     },
     "metadata": {},
     "output_type": "display_data"
    },
    {
     "data": {
      "image/png": "[encoded data removed]",
      "text/plain": [
       "<matplotlib.figure.Figure at 0x7f12cc3b9198>"
      ]
     },
     "metadata": {},
     "output_type": "display_data"
    }
   ],
   "source": [
    "# check with iris\n",
    "\n",
    "import matplotlib.pyplot as plt\n",
    "\n",
    "from sklearn import datasets\n",
    "from sklearn.decomposition import PCA\n",
    "\n",
    "iris = datasets.load_iris()\n",
    "\n",
    "X = iris.data\n",
    "y = iris.target\n",
    "target_names = iris.target_names\n",
    "\n",
    "pca = PCA(n_components=2)\n",
    "X_r = pca.fit(X).transform(X)\n",
    "\n",
    "em_encoder = EM_encoder(2, 1000)\n",
    "em_encoder.fit(X)\n",
    "X_r2 = em_encoder.transform(X)\n",
    "\n",
    "# Percentage of variance explained for each components\n",
    "#print('explained variance ratio (first two components): %s'\n",
    "#      % str(pca.explained_variance_ratio_))\n",
    "\n",
    "plt.figure()\n",
    "colors = ['navy', 'turquoise', 'darkorange']\n",
    "lw = 2\n",
    "\n",
    "for color, i, target_name in zip(colors, [0, 1, 2], target_names):\n",
    "    plt.scatter(X_r[y == i, 0], X_r[y == i, 1], color=color, alpha=.8, lw=lw,\n",
    "                label=target_name)\n",
    "plt.legend(loc='best', shadow=False, scatterpoints=1)\n",
    "plt.title('PCA of IRIS dataset')\n",
    "\n",
    "plt.figure()\n",
    "for color, i, target_name in zip(colors, [0, 1, 2], target_names):\n",
    "    plt.scatter(X_r2[y == i, 0], X_r2[y == i, 1], alpha=.8, color=color,\n",
    "                label=target_name)\n",
    "plt.legend(loc='best', shadow=False, scatterpoints=1)\n",
    "plt.title('EM_encoder of IRIS dataset')\n",
    "\n",
    "plt.show()"
   ]
  },
  {
   "cell_type": "markdown",
   "metadata": {
    "collapsed": true
   },
   "source": [
    "** Задание 3. ** (10 баллов) Используя свою реализацию метода PCA, решите задачу восстанавления давления по профилю крыла."
   ]
  },
  {
   "cell_type": "markdown",
   "metadata": {},
   "source": [
    "Скачать данные со страницы курса. https://yadi.sk/i/065iNGXp3QYv5n\n",
    "\n",
    "Данные представляют собой матрицу размера $397\\times114$; в каждой\n",
    "строке находится подвектор, описывающий профиль (первые 57\n",
    "координат), и подвектор, описывающий соответствующее распределение\n",
    "давления (следующие 57 координат). Задача состоит в том, чтобы на\n",
    "основании метода главных компонент построить алгоритм, позволяющий\n",
    "восстанавливать распределение давления по профилю. Опишем алгоритм\n",
    "обучения и алгоритм восстановления. Пусть ${\\bf A}\\in\\mathbb{R}^{57}$ --\n",
    "вектор, описывающий профиль, а ${\\bf P}\\in\\mathbb{R}^{57}$ -- вектор,\n",
    "описывающий распределение давления. Дана обучающая выборка $({\\bf\n",
    "A}_i,{\\bf P}_i)_{i=1}^N$ (взять в качестве обучающей выборки 75%\n",
    "случайно выбранных строк из матрицы данных; остальные 25%\n",
    "использовать в качестве тестового множества данных).\n",
    "\n",
    "Алгоритм обучения состоит из следующих шагов:\n",
    "\n",
    "\n",
    "1. По данным $({\\bf A}_i,{\\bf P}_i)_{i=1}^N$ оцениваются первые\n",
    "$d$ (параметр алгоритма) главных компонент ${\\bf e}_1,\\ldots,{\\bf\n",
    "e}_d$, где ${\\bf e}_i\\in\\mathbb{R}^{114}$. \n",
    "2. Каждый из векторов ${\\bf e}_i,i=1,\\ldots,d$ представляется как объединение двух подвекторов\n",
    "${\\bf e}_i = ({\\bf e}_i^A\\in\\mathbb{R}^{57},{\\bf\n",
    "e}_i^P\\in\\mathbb{R}^{57}),i=1,\\ldots,d$, соответствующих описанию профиля\n",
    "и распределению давления соответственно.\n",
    "\n",
    "\n",
    "Преобразование произвольного объединенного вектора ${\\bf Z} =\n",
    "({\\bf A},{\\bf P})$ в сжатое описание ${\\bf\\lambda}=(\\lambda_1,\\ldots,\\lambda_d)$ происходит согласно\n",
    "следующей формуле:\n",
    "\n",
    "$$\n",
    "\\lambda_i = \\left( {\\bf Z}-{\\bf Z}_{\\mathrm{mean}},{\\bf e}_i\\right),\n",
    "i=1,\\ldots,d,\n",
    "$$\n",
    "\n",
    "где ${\\bf Z}_{\\mathrm{mean}} = \\frac{1}{N}\\sum_{k=1}^N {\\bf Z}_k$,\n",
    "${\\bf Z}_k = ({\\bf A}_k,{\\bf P}_k)$ (выборочное среднее;\n",
    "подсчитывается по обучающей выборке). Восстановления подвекторов\n",
    "${\\bf A}$ и ${\\bf P}$ объединенного вектора ${\\bf Z} = ({\\bf\n",
    "A},{\\bf P})$ по сжатому описанию ${\\bf\n",
    "\\lambda}=(\\lambda_1,\\ldots,\\lambda_d)$ происходит согласно\n",
    "формулам\n",
    "\n",
    "$$\n",
    "{\\bf A}^*({\\bf \\lambda}) = {\\bf A}_{\\mathrm{mean}} + \\sum_{i=1}^d\\lambda_i{\\bf e}_i^A,\\,{\\bf\n",
    "P}^*({\\bf \\lambda}) ={\\bf P}_{\\mathrm{mean}} + \\sum_{i=1}^d\\lambda_i{\\bf e}_i^P.\n",
    "$$\n",
    "\n",
    "\n",
    "Алгоритм восстановления давления ${\\bf P}$ по профилю ${\\bf A}$\n",
    "может быть описан следующим образом:\n",
    "\n",
    "\n",
    "1. Для заданного профиля ${\\bf A}$ определяются такие ${\\bf\n",
    "\\lambda}=(\\lambda_1,\\ldots,\\lambda_d)$, что $\\|{\\bf A}^*({\\bf\n",
    "\\lambda})-{\\bf A}\\|_{2}^2$ принимает минимальное значение (такое\n",
    "значение ${\\bf \\lambda}$ подсчитывается с помощью псевдообращения\n",
    "матрицы $E=[{\\bf e}_1^A,\\ldots,{\\bf e}_d^A]$, то есть ${\\bf\n",
    "\\lambda} = E^{+}\\left({\\bf A}-{\\bf A}_{\\mathrm{mean}}\\right)$, где $E^+$ -- псевдообратная матрица).\n",
    "2. По вычисленному вектору ${\\bf\n",
    "\\lambda}$ оценивается давление согласно формуле ${\\bf P}^*({\\bf\n",
    "\\lambda}) = {\\bf P}_{\\mathrm{mean}} + \\sum_{i=1}^d\\lambda_i{\\bf e}_i^P.\n",
    "$\n",
    "\n",
    "Задача состоит в том, чтобы реализовать предложенный алгоритм;\n",
    "подсчитать график зависимости средней ошибки восстановления\n",
    "векторов давлений из тестовой выборки от размерности сжатия $d$;\n",
    "нарисовать несколько восстановленных графиков давления (для\n",
    "нескольких разных профилей) с наложением истинных значений\n",
    "давления. Ошибка между набором векторов $({\\bf P}_i)_{i=1}^M$ и\n",
    "восстановленными векторами $({\\bf P}^*_i)_{i=1}^M$ оценивается\n",
    "согласно формуле $\\sqrt{\\frac{1}{M}\\sum_{i=1}^M\\|{\\bf P}_i-{\\bf P}^*_i\\|^2}$, где\n",
    "$\\|\\cdot\\|$ -- евклидово расстояние"
   ]
  },
  {
   "cell_type": "code",
   "execution_count": 121,
   "metadata": {
    "collapsed": true
   },
   "outputs": [],
   "source": [
    "from sklearn.model_selection import train_test_split"
   ]
  },
  {
   "cell_type": "code",
   "execution_count": 122,
   "metadata": {
    "collapsed": true
   },
   "outputs": [],
   "source": [
    "data = np.fromfile('A2P.txt', sep=' ').reshape(397, 114)\n",
    "A = data[:,57]\n",
    "P = data[:,58:]\n",
    "A_train, P_train, A_test, P_test = train_test_split(A, P, test_size=0.25)"
   ]
  },
  {
   "cell_type": "code",
   "execution_count": null,
   "metadata": {
    "collapsed": true
   },
   "outputs": [],
   "source": []
  }
 ],
 "metadata": {
  "kernelspec": {
   "display_name": "Python 3",
   "language": "python",
   "name": "python3"
  },
  "language_info": {
   "codemirror_mode": {
    "name": "ipython",
    "version": 3
   },
   "file_extension": ".py",
   "mimetype": "text/x-python",
   "name": "python",
   "nbconvert_exporter": "python",
   "pygments_lexer": "ipython3",
   "version": "3.5.2"
  }
 },
 "nbformat": 4,
 "nbformat_minor": 2
}
