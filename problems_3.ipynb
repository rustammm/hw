{
 "cells": [
  {
   "cell_type": "markdown",
   "metadata": {},
   "source": [
    "# Домашнее задание 3"
   ]
  },
  {
   "cell_type": "markdown",
   "metadata": {},
   "source": [
    "### Задание 1"
   ]
  },
  {
   "cell_type": "markdown",
   "metadata": {},
   "source": [
    "**a)** В данном случае регрессором X являются значения переменной HP, а откликом Y $-$ значения переменной MPG. Простая линейная регрессия имеет вид: $r(x) = \\beta_0 + \\beta_1 x$. Можно оценить $\\hat r(x) = \\hat \\beta_0 + \\hat \\beta_1 x$, где согласно лекции оценки\n",
    "\n",
    "$$\\hat \\beta_1 = \\dfrac{\\sum\\limits^N_{i=1}(X_i - \\overline X_n)(Y_i - \\overline Y_n)}{\\sum\\limits^N_{i=1}(X_i - \\overline X_n)^2}$$\n",
    "\n",
    "$$\\hat \\beta_0 = \\overline Y_n - \\hat \\beta_1 \\overline X_n$$"
   ]
  },
  {
   "cell_type": "code",
   "execution_count": 1,
   "metadata": {
    "collapsed": true
   },
   "outputs": [],
   "source": [
    "import pandas as pd\n",
    "import numpy as np\n",
    "import matplotlib.pyplot as plt\n",
    "\n",
    "%matplotlib inline"
   ]
  },
  {
   "cell_type": "code",
   "execution_count": 2,
   "metadata": {},
   "outputs": [
    {
     "data": {
      "text/html": [
       "<div>\n",
       "<style>\n",
       "    .dataframe thead tr:only-child th {\n",
       "        text-align: right;\n",
       "    }\n",
       "\n",
       "    .dataframe thead th {\n",
       "        text-align: left;\n",
       "    }\n",
       "\n",
       "    .dataframe tbody tr th {\n",
       "        vertical-align: top;\n",
       "    }\n",
       "</style>\n",
       "<table border=\"1\" class=\"dataframe\">\n",
       "  <thead>\n",
       "    <tr style=\"text-align: right;\">\n",
       "      <th></th>\n",
       "      <th>MAKE/MODEL</th>\n",
       "      <th>VOL</th>\n",
       "      <th>HP</th>\n",
       "      <th>MPG</th>\n",
       "      <th>SP</th>\n",
       "      <th>WT</th>\n",
       "    </tr>\n",
       "  </thead>\n",
       "  <tbody>\n",
       "    <tr>\n",
       "      <th>0</th>\n",
       "      <td>GM/GeoMetroXF1</td>\n",
       "      <td>89</td>\n",
       "      <td>49</td>\n",
       "      <td>65.4</td>\n",
       "      <td>96</td>\n",
       "      <td>17.5</td>\n",
       "    </tr>\n",
       "    <tr>\n",
       "      <th>1</th>\n",
       "      <td>GM/GeoMetro</td>\n",
       "      <td>92</td>\n",
       "      <td>55</td>\n",
       "      <td>56.0</td>\n",
       "      <td>97</td>\n",
       "      <td>20.0</td>\n",
       "    </tr>\n",
       "    <tr>\n",
       "      <th>2</th>\n",
       "      <td>GM/GeoMetroLSI</td>\n",
       "      <td>92</td>\n",
       "      <td>55</td>\n",
       "      <td>55.9</td>\n",
       "      <td>97</td>\n",
       "      <td>20.0</td>\n",
       "    </tr>\n",
       "    <tr>\n",
       "      <th>3</th>\n",
       "      <td>SuzukiSwift</td>\n",
       "      <td>92</td>\n",
       "      <td>70</td>\n",
       "      <td>49.0</td>\n",
       "      <td>105</td>\n",
       "      <td>20.0</td>\n",
       "    </tr>\n",
       "    <tr>\n",
       "      <th>4</th>\n",
       "      <td>DaihatsuCharade</td>\n",
       "      <td>92</td>\n",
       "      <td>53</td>\n",
       "      <td>46.5</td>\n",
       "      <td>96</td>\n",
       "      <td>20.0</td>\n",
       "    </tr>\n",
       "  </tbody>\n",
       "</table>\n",
       "</div>"
      ],
      "text/plain": [
       "        MAKE/MODEL  VOL  HP   MPG   SP    WT\n",
       "0   GM/GeoMetroXF1   89  49  65.4   96  17.5\n",
       "1      GM/GeoMetro   92  55  56.0   97  20.0\n",
       "2   GM/GeoMetroLSI   92  55  55.9   97  20.0\n",
       "3      SuzukiSwift   92  70  49.0  105  20.0\n",
       "4  DaihatsuCharade   92  53  46.5   96  20.0"
      ]
     },
     "execution_count": 2,
     "metadata": {},
     "output_type": "execute_result"
    }
   ],
   "source": [
    "data = pd.read_csv(\"data.txt\", delim_whitespace=True)\n",
    "data.head()"
   ]
  },
  {
   "cell_type": "code",
   "execution_count": 3,
   "metadata": {},
   "outputs": [
    {
     "name": "stdout",
     "output_type": "stream",
     "text": [
      "Регрессионная зависимость: r(x) = 50.0660780702-0.139023258903x\n"
     ]
    },
    {
     "data": {
      "text/plain": [
       "<matplotlib.text.Text at 0x282d1654a58>"
      ]
     },
     "execution_count": 3,
     "metadata": {},
     "output_type": "execute_result"
    },
    {
     "data": {
      "image/png": "[encoded data removed]",
      "text/plain": [
       "<matplotlib.figure.Figure at 0x282d12c6da0>"
      ]
     },
     "metadata": {},
     "output_type": "display_data"
    }
   ],
   "source": [
    "X = np.array(data['HP'])\n",
    "Y = np.array(data['MPG'])\n",
    "\n",
    "# вычислим оценки коэффициентов по формулам выше\n",
    "b1 = np.sum((X - X.mean()) * (Y - Y.mean())) / np.sum((X - X.mean())**2)\n",
    "b0 = Y.mean() - b1 * X.mean()\n",
    "print(\"Регрессионная зависимость: r(x) = \" + str(b0) + str(b1) + \"x\")\n",
    "\n",
    "plt.scatter(X, Y, c='k', s=7)\n",
    "\n",
    "xx = np.linspace(X.min(), X.max(), )\n",
    "yy = b0 + b1 * xx\n",
    "plt.plot(xx, yy, 'r-')\n",
    "plt.title(u'Регрессионная зависимость')\n",
    "plt.xlabel('HP')\n",
    "plt.ylabel('MPG')"
   ]
  },
  {
   "cell_type": "markdown",
   "metadata": {},
   "source": [
    "Видим, что прямая неплохо приближает большинство точек выборки, однако зависимость далека от линейной, поэтому у нескольких точек наблюдается большое отклонение от построенной регрессией прямой."
   ]
  },
  {
   "cell_type": "markdown",
   "metadata": {},
   "source": [
    "**b)** Построем стандартную линейную регрессию аналогично предыдущему пункту, используя $\\log (MPG)$ в качестве отклика."
   ]
  },
  {
   "cell_type": "code",
   "execution_count": 4,
   "metadata": {},
   "outputs": [
    {
     "name": "stdout",
     "output_type": "stream",
     "text": [
      "Регрессионная зависимость: r(x) = 4.01322939993-0.00458889589541x\n"
     ]
    },
    {
     "data": {
      "text/plain": [
       "<matplotlib.text.Text at 0x282d17434a8>"
      ]
     },
     "execution_count": 4,
     "metadata": {},
     "output_type": "execute_result"
    },
    {
     "data": {
      "image/png": "[encoded data removed]",
      "text/plain": [
       "<matplotlib.figure.Figure at 0x282d12c6b38>"
      ]
     },
     "metadata": {},
     "output_type": "display_data"
    }
   ],
   "source": [
    "Y_log = np.log(Y)\n",
    "\n",
    "# вычислим оценки коэффициентов по формулам выше\n",
    "b1_log = np.sum((X - X.mean()) * (Y_log  - Y_log .mean())) / np.sum((X - X.mean())**2)\n",
    "b0_log = Y_log.mean() - b1_log * X.mean()\n",
    "print(\"Регрессионная зависимость: r(x) = \" + str(b0_log) + str(b1_log) + \"x\")\n",
    "\n",
    "plt.scatter(X, Y_log, c='k', s=7)\n",
    "\n",
    "xx = np.linspace(X.min(), X.max(), )\n",
    "yy_log = b0_log + b1_log * xx\n",
    "plt.plot(xx, yy_log, 'r-')\n",
    "plt.title(u'Регрессионная зависимость c log откликом')\n",
    "plt.xlabel('HP')\n",
    "plt.ylabel('log(MPG)')"
   ]
  },
  {
   "cell_type": "markdown",
   "metadata": {},
   "source": [
    "Построим также полученную зависимость MPG от HP, чтобы можно было сравнить с предыдущим пунктом (для этого рассмотрим экспоненту от прогнозов)."
   ]
  },
  {
   "cell_type": "code",
   "execution_count": 5,
   "metadata": {},
   "outputs": [
    {
     "data": {
      "text/plain": [
       "<matplotlib.text.Text at 0x282d1764550>"
      ]
     },
     "execution_count": 5,
     "metadata": {},
     "output_type": "execute_result"
    },
    {
     "data": {
      "image/png": "[encoded data removed]",
      "text/plain": [
       "<matplotlib.figure.Figure at 0x282d129af98>"
      ]
     },
     "metadata": {},
     "output_type": "display_data"
    }
   ],
   "source": [
    "plt.scatter(X, Y, c='k', s=7)\n",
    "yy_log = np.exp(b0_log + b1_log * xx)\n",
    "plt.plot(xx, yy_log, 'r-')\n",
    "plt.title(u'Регрессионная зависимость с log откликом')\n",
    "plt.xlabel('HP')\n",
    "plt.ylabel('MPG')"
   ]
  },
  {
   "cell_type": "markdown",
   "metadata": {},
   "source": [
    "Сумма квадратов остатков подгонки оценивается $RSS = \\sum\\limits^n_{i=1}\\hat \\varepsilon_i^2 = \\sum\\limits^n_{i=1} (Y_i - (\\hat \\beta_0 + \\hat \\beta_1 X_i))^2$"
   ]
  },
  {
   "cell_type": "code",
   "execution_count": 6,
   "metadata": {},
   "outputs": [
    {
     "name": "stdout",
     "output_type": "stream",
     "text": [
      "RSS из пункта а:  3049.43511117\n",
      "RSS из пункта b:  2378.36267487\n"
     ]
    }
   ],
   "source": [
    "RSS = np.sum((Y - (b0 + b1 * X))**2)\n",
    "RSS_log = np.sum((Y - np.exp(b0_log + b1_log * X))**2)\n",
    "print(\"RSS из пункта а: \", RSS)\n",
    "print(\"RSS из пункта b: \", RSS_log)"
   ]
  },
  {
   "cell_type": "markdown",
   "metadata": {},
   "source": [
    "Cогласно данной метрике качество во втором пункте лучше. Это подтверждается и визуально."
   ]
  },
  {
   "cell_type": "markdown",
   "metadata": {},
   "source": [
    "**с)** Для множественной регрессии данные имеют вид $(X_1, Y_1), ... ,(X_n, Y_n)$, где $X_i = (X_{i1}, ..., X_{ik}) \\in \\mathbb{R}^k$. Для учета нулевого коэффициента обычно полагают $X_{i1} = 1$ при $i = 1, ..., n$.\n",
    "\n",
    "По теореме из лекции оценка функции регрессии имеет вид: $\\hat r(x) = \\sum\\limits^k_{j=1} \\hat\\beta_j x_j$, где $\\hat \\beta = (X^{T}X)^{-1}X^{T}Y$."
   ]
  },
  {
   "cell_type": "code",
   "execution_count": 7,
   "metadata": {},
   "outputs": [
    {
     "name": "stdout",
     "output_type": "stream",
     "text": [
      "Веса b: [  1.92437753e+02  -1.56450113e-02   3.92212315e-01  -1.29481848e+00\n",
      "  -1.85980373e+00]\n"
     ]
    }
   ],
   "source": [
    "X = (np.ones(Y.size), np.array(data['VOL']), np.array(data['HP']), np.array(data['SP']), np.array(data['WT']))\n",
    "X = np.column_stack(X)\n",
    "Y = np.array(data['MPG'])\n",
    "\n",
    "b = np.dot(np.dot(np.linalg.inv(np.dot(X.T, X)), X.T), Y)\n",
    "print(\"Веса b:\", b)"
   ]
  },
  {
   "cell_type": "markdown",
   "metadata": {},
   "source": [
    "Найдем тут также $R_{tr} = \\sum\\limits^n_{i=1}\\hat \\varepsilon_i^2$ (оценку риска прогноза), где вектор остатков $\\hat \\varepsilon = X \\hat \\beta- Y$"
   ]
  },
  {
   "cell_type": "code",
   "execution_count": 8,
   "metadata": {},
   "outputs": [
    {
     "name": "stdout",
     "output_type": "stream",
     "text": [
      "R_tr =  1027.38147725\n"
     ]
    }
   ],
   "source": [
    "R_tr = np.sum((np.dot(X, b) - Y)**2)\n",
    "print(\"R_tr = \", R_tr)"
   ]
  },
  {
   "cell_type": "markdown",
   "metadata": {},
   "source": [
    "Видим, что в случае множественной регрессии отклонение (сумма квадратов остатков) стало в 2-3 раза меньше, чем для простой, что вполне соответсвует ожиданиям."
   ]
  },
  {
   "cell_type": "markdown",
   "metadata": {},
   "source": [
    "**d)** Статистика $C_p$ Mallow для выбранного подмножества регрессоров $S$ имеет вид $\\hat R(S) = \\hat R_{tr}(S) + 2|S|\\hat \\sigma^2$. Здесь $|S|$ - число регрессорова, а $\\hat \\sigma^2$ - оценка дисперсии шума $\\sigma^2$, полученная по полной модели.\n",
    "\n",
    "По теореме из лекции $\\hat \\sigma^2 = \\dfrac1{n - k} \\sum\\limits^n_{i=1}\\hat \\varepsilon_i^2$.\n",
    "\n",
    "Существуют два способа выбора метода моделей: включений и исключений.\n",
    "\n",
    "    1) Включения\n",
    "\n",
    "На первом шаге регрессоров нет вообще;\n",
    "\n",
    "Далее добавляется регрессор, для которого $C_p$ Mallow минимальное и т.д.\n",
    "\n",
    "    2) Исключения\n",
    "\n",
    "На первом шаге количество регрессоров максимальное;\n",
    "\n",
    "На каждом шаге удаляется регрессор, исключение которого приводит к минимальному значению $C_p$ Mallow."
   ]
  },
  {
   "cell_type": "code",
   "execution_count": 9,
   "metadata": {
    "scrolled": true
   },
   "outputs": [
    {
     "name": "stdout",
     "output_type": "stream",
     "text": [
      "Полученное подмножество регрессоров:  [0, 2, 3, 4]\n",
      "C_p =  1140.39087112\n"
     ]
    }
   ],
   "source": [
    "# Выберем сначала модель по методу включений\n",
    "\n",
    "k = 5 # т.к. в полной модели вектора из пространства R^5\n",
    "Regr = [np.ones(Y.size), np.array(data['VOL']), np.array(data['HP']), np.array(data['SP']), np.array(data['WT'])]\n",
    "S = []\n",
    "sig = R_tr/(Y.size - k)\n",
    "\n",
    "C_p = np.infty\n",
    "ind = 10\n",
    "\n",
    "while (ind >= 0):  # ind - добавляемый на данном шаге индекс\n",
    "    if ind != 10 and ind >= 0:\n",
    "        S += [ind]\n",
    "    ind = -1\n",
    "    for i in range(k):\n",
    "        if i not in S:\n",
    "            S_cur = S[:] + [i]\n",
    "            X = []\n",
    "            for el in S_cur:\n",
    "                X += [Regr[el]]\n",
    "            X = np.column_stack(X)  # столбцы, соответствующие индексам в S_cur\n",
    "            b = np.dot(np.dot(np.linalg.inv(np.dot(X.T,  X)), X.T), Y)\n",
    "            C_p_cur = np.sum((np.dot(X, b) - Y)**2) + 2 * len(S_cur) * sig\n",
    "            if C_p_cur < C_p:\n",
    "                C_p = C_p_cur\n",
    "                ind = i\n",
    "                \n",
    "print('Полученное подмножество регрессоров: ', sorted(S))\n",
    "print('C_p = ', C_p)"
   ]
  },
  {
   "cell_type": "code",
   "execution_count": 10,
   "metadata": {},
   "outputs": [
    {
     "name": "stdout",
     "output_type": "stream",
     "text": [
      "Полученное подмножество регрессоров:  [0, 2, 3, 4]\n",
      "C_p =  1140.39087112\n"
     ]
    }
   ],
   "source": [
    "# Теперь построим модель по методу исключений\n",
    "\n",
    "Regr = [np.ones(Y.size), np.array(data['VOL']), np.array(data['HP']), np.array(data['SP']), np.array(data['WT'])]\n",
    "S = [0, 1, 2, 3, 4]\n",
    "sig = R_tr/(Y.size - k)  # т.к. в полной модели вектора из пространства R^5\n",
    "\n",
    "C_p = np.infty\n",
    "ind = 10\n",
    "\n",
    "while (ind >= 0):\n",
    "    if ind != 10 and ind >= 0:\n",
    "        S.remove(ind)\n",
    "    ind = -1\n",
    "    for i in S:\n",
    "        S_cur = S[:]\n",
    "        S_cur.remove(i)\n",
    "        X = []\n",
    "        for el in S_cur:\n",
    "            X += [Regr[el]]\n",
    "        X = np.column_stack(X)\n",
    "        b = np.dot(np.dot(np.linalg.inv(np.dot(X.T,  X)), X.T), Y)\n",
    "        C_p_cur = np.sum((np.dot(X, b) - Y)**2) + 2 * len(S_cur) * sig\n",
    "        if C_p_cur < C_p:\n",
    "            C_p = C_p_cur\n",
    "            ind = i\n",
    "                \n",
    "print('Полученное подмножество регрессоров: ', sorted(S))\n",
    "print('C_p = ', C_p)"
   ]
  },
  {
   "cell_type": "markdown",
   "metadata": {},
   "source": [
    "Два данных метода вернули один и тот же результат - в качестве регрессоров нужно использовать все столбцы, кроме 'VOL'."
   ]
  },
  {
   "cell_type": "markdown",
   "metadata": {},
   "source": [
    "### Задание 2"
   ]
  },
  {
   "cell_type": "markdown",
   "metadata": {},
   "source": [
    "Критерий AIC имеет вид $AIC(S) = l_S - |S| \\rightarrow \\max\\limits_{S}$, где $l_S = l_S(\\hat \\beta)$ -  логарифм правдоподобия модели, где в качестве неизвестных параметров были подставлены их оценки, полученные с помощью максимизации $l_S(\\beta)$.\n",
    "\n",
    "Поскольку $\\varepsilon \\sim \\mathcal{N}(0, \\sigma^2)$, a $Y = X\\beta + \\varepsilon$, то $Y_i \\sim \\mathcal{N}(X_i \\beta, \\sigma^2)$. \n",
    "\n",
    "Пусть $X$ - выборка для фиксированного $S$. Тогда функция правдоподобия: $$\\mathcal{L}_S(\\beta) = \\prod\\limits^n_{i=1} p(Y_i) = \\prod\\limits^n_{i=1} \\dfrac1{\\sqrt{2 \\pi \\sigma^2}} \\exp\\left(-\\dfrac{(Y_i - X_i \\beta)^2}{2\\sigma^2}\\right) = \\dfrac1{(2 \\pi \\sigma^2)^{n/2}} \\prod\\limits^n_{i=1} \\exp\\left(-\\dfrac{(Y_i - X_i \\beta)^2}{2\\sigma^2}\\right) \\rightarrow \\max\\limits_\\beta$$\n",
    "\n",
    "Значит, логарифмическая функция правдоподобия:\n",
    "$$l_S(\\beta) = -\\dfrac{n}{2}\\ln(2\\pi \\sigma^2) - \\dfrac1{2\\sigma^2} \\sum\\limits^n_{i=1}(Y_i - X_i \\beta)^2 = -\\dfrac{n}{2}\\ln(2\\pi \\sigma^2) - \\dfrac1{2\\sigma^2} \\sum\\limits^n_{i=1}\\varepsilon_i^2 =$$$$= -\\dfrac{n}{2}\\ln(2\\pi \\sigma^2) - \\dfrac1{2\\sigma^2} R_{tr}(S) \\rightarrow \\max\\limits_\\beta$$\n",
    "\n",
    "Таким образом, поскольку шум берется равным оценке, полученной по полной модели, $$AIC(S) = -\\dfrac{n}{2}\\ln(2\\pi \\hat\\sigma^2) - \\dfrac1{2\\hat \\sigma^2} \\hat R_{tr}(S)- |S|$$\n",
    "\n",
    "Поскольку $-\\dfrac{n}{2}\\ln(2\\pi \\hat\\sigma^2)$ - известная константа, то максимизация данного критерия по $S$ эквивалетна минимизации $\\dfrac1{2\\hat \\sigma^2} \\hat R_{tr}(S) + |S|$, или, что то же самое, минимизации по $S$ статистики $\\hat R_{tr}(S) + 2|S|\\hat \\sigma^2 = C_p$ Mallow, ЧТД."
   ]
  },
  {
   "cell_type": "markdown",
   "metadata": {},
   "source": [
    "### Задание 3"
   ]
  },
  {
   "cell_type": "markdown",
   "metadata": {},
   "source": [
    "** а) ** \n",
    "\n",
    "Функция правдоподобия $$\\mathcal{L}_n(\\theta) = \\prod\\limits^n_{i=1} p(X_i) = \\prod\\limits^n_{i=1} \\dfrac1{\\sqrt{2 \\pi}} e^{-(X_i - \\theta)^2}$$\n",
    "\n",
    "Логарифм функции правдоподобия $$l_n(\\theta) = -\\dfrac{n}{2}\\ln(2\\pi) - \\dfrac1{2} \\sum\\limits^n_{i=1}(X_i - \\theta)^2$$\n",
    "$$\\dfrac{\\partial l_n}{\\partial \\theta} = \\sum\\limits^n_{i=1}(X_i - \\theta) = n \\overline X - n \\theta$$\n",
    "$$\\dfrac{\\partial^2 l_n}{\\partial \\theta^2} = -n < 0$$\n",
    "\n",
    "Откуда MLE $\\hat \\theta = \\overline X$.\n",
    "\n",
    "Таким образом, $$P(J_n = 0) = P\\left(l_n(0) - l_n(\\hat \\theta) + 1 > 0\\right) = P\\left(- \\dfrac1{2} \\sum\\limits^n_{i=1}X_i^2 + \\dfrac1{2} \\sum\\limits^n_{i=1}(X_i - \\overline X)^2 + 1 > 0\\right) =$$\n",
    "$$= P\\left(\\sum\\limits^n_{i=1}(- \\overline X)(2 X_i - \\overline X) + 2 > 0\\right) = P\\left(\\overline X (2\\sum\\limits^n_{i=1}X_i - n\\overline X) < 2 \\right) = P\\left(n\\overline X ^2 < 2\\right) =$$ $$= P\\left(-\\sqrt{2} < \\sqrt{n}\\overline X < \\sqrt{2}\\right) = P\\left(\\sqrt{n}\\overline X < \\sqrt{2}\\right) - P\\left(\\sqrt{n}\\overline X \\leq -\\sqrt{2}\\right)$$\n",
    "\n",
    "1) Если $M_0$ верна, то согласно ЦПТ $\\sqrt{n} \\overline X \\xrightarrow[n \\to \\infty]{d} \\mathcal{N}(0, 1)$.\n",
    "\n",
    "Значит, $\\lim \\limits_{n \\to \\infty} P(J_n = 0) = Ф(\\sqrt 2) - Ф(-\\sqrt 2) = 2 Ф(\\sqrt 2) - 1$, где $Ф$ $-$ функция распредления $\\mathcal{N}(0, 1)$.\n",
    "\n",
    "2) В случае $\\theta \\neq 0$, по ЦПТ получим $\\sqrt{n} (\\overline X - \\theta) \\xrightarrow[n \\to \\infty]{d} \\mathcal{N}(0, 1)$. Значит, \n",
    "\n",
    "$$\\lim \\limits_{n \\to \\infty} P(J_n = 0) = \\lim \\limits_{n \\to \\infty} \\left[P\\left(\\sqrt{n}(\\overline X - \\theta) < \\sqrt{2} - \\sqrt{n}\\theta\\right) - P\\left(\\sqrt{n}(\\overline X - \\theta) \\leq -\\sqrt{2} - \\sqrt{n}\\theta\\right)\\right]=$$ $$= \\lim \\limits_{n \\to \\infty}\\left[Ф(\\sqrt{2} - \\sqrt{n}\\theta) - Ф(-\\sqrt{2} - \\sqrt{n}\\theta)\\right] = 0 - 0 = 0$$."
   ]
  },
  {
   "cell_type": "markdown",
   "metadata": {
    "collapsed": true
   },
   "source": [
    "** b) ** Заметим, что $\\hat f_n(x) = \\phi_{\\tilde \\theta}(x)$, где $\\tilde \\theta = 0$, если $J_n = 0$, и $\\tilde \\theta = \\hat \\theta$ иначе.\n",
    "\n",
    "1) Пусть $\\theta = 0$. Тогда по определению расстояния Кульбака-Лейблера\n",
    "$$D(\\phi_0 \\parallel \\hat f_n) = \\int\\limits_{- \\infty}^{\\infty} \\dfrac1{\\sqrt{2 \\pi}} e^{-x^2 / 2} \\log \\dfrac{e^{-x^2 /2}}{e^{-(x - \\tilde \\theta)^2 / 2}} dx = \\dfrac1{\\sqrt{2 \\pi}} \\int\\limits_{- \\infty}^{\\infty} e^{-x^2 / 2} \\left(-\\dfrac{x^2}{2} + \\dfrac{(x - \\tilde \\theta)^2}{2}\\right) dx = $$\n",
    "$$ = \\dfrac1{\\sqrt{2 \\pi}} \\int\\limits_{- \\infty}^{\\infty} e^{-x^2 / 2} \\left(\\dfrac{\\tilde \\theta ^2 -2 x \\tilde \\theta}{2}\\right) dx = [\\text{т.к } x e^{-x^2 / 2} - \\text{ нечетная функция}] =$$ $$= \\dfrac{\\tilde \\theta ^2}{2} \\int\\limits_{- \\infty}^{\\infty} \\dfrac1{\\sqrt{2 \\pi}} e^{-x^2 / 2} dx = \\dfrac{\\tilde \\theta ^2}{2} \\int\\limits_{- \\infty}^{\\infty} \\phi_0(x) dx = \\dfrac{\\tilde \\theta ^2}{2}$$\n",
    "\n",
    "Для того чтобы показать, что $\\dfrac{\\tilde \\theta ^2}{2} \\xrightarrow[n \\to \\infty]{\\mathbb{P}} 0$, достаточно доказать, что $\\tilde \\theta \\xrightarrow[n \\to \\infty]{\\mathbb{P}} 0$ [т.к. $P\\left(\\dfrac{\\tilde \\theta ^2}{2} > \\varepsilon\\right) = P\\left(|\\tilde \\theta| > \\sqrt{2\\varepsilon}\\right)$, а $\\varepsilon$ выбирается в определении сходимости по вероятности произвольно].\n",
    "\n",
    "Докажем по определению:\n",
    "\n",
    "$$\\forall \\varepsilon > 0: 0 \\leq P(|\\tilde \\theta| > \\varepsilon) \\leq P(|\\hat \\theta| > \\varepsilon) = P(|\\sqrt n \\overline X| > \\sqrt{n}\\varepsilon) = 1 - P(\\sqrt n \\overline X \\leq \\sqrt{n}\\varepsilon) + P(\\sqrt n \\overline X < - \\sqrt{n}\\varepsilon)$$ Поскольку по ЦПТ  $\\sqrt{n} \\overline X \\xrightarrow[n \\to \\infty]{d} \\mathcal{N}(0, 1)$, то \n",
    "$$\\lim \\limits_{n \\to \\infty} P(|\\hat \\theta| > \\varepsilon) = \\lim \\limits_{n \\to \\infty} \\left[1 - P(\\sqrt n \\overline X \\leq \\sqrt{n}\\varepsilon) + P(\\sqrt n \\overline X < - \\sqrt{n}\\varepsilon)\\right] = 1 - 1 + 0 = 0$$\n",
    "\n",
    "Значит, и $\\lim \\limits_{n \\to \\infty} P(|\\tilde \\theta| > \\varepsilon) = 0$, ЧТД.\n",
    "\n",
    "2) Пусть $\\theta \\neq 0$.\n",
    "\n",
    "Тогда аналогично первому случаю получим:\n",
    "\n",
    "$$D(\\phi_\\theta \\parallel \\hat f_n) = \\int\\limits_{- \\infty}^{\\infty} \\dfrac1{\\sqrt{2 \\pi}} e^{-(x-\\theta)^2 / 2} \\log \\dfrac{e^{-(x-\\theta)^2 /2}}{e^{-(x - \\tilde \\theta)^2 / 2}} dx = \\dfrac1{\\sqrt{2 \\pi}} \\int\\limits_{- \\infty}^{\\infty} e^{-(x-\\theta)^2 / 2} \\left(-\\dfrac{(x-\\theta)^2}{2} + \\dfrac{(x - \\tilde \\theta)^2}{2}\\right) dx = $$\n",
    "$$ = [y = x-\\theta] = \\dfrac1{\\sqrt{2 \\pi}} \\int\\limits_{- \\infty}^{\\infty} e^{-y^2 / 2} \\left(-\\dfrac{-y^2}{2} + \\dfrac{(y + \\theta - \\tilde \\theta)^2}{2}\\right) dy = [\\text{аналогично 1)}] = \\dfrac{(\\theta - \\tilde \\theta)^2}{2}$$\n",
    "\n",
    "Опять достаточно доказать, что $\\theta - \\tilde \\theta \\xrightarrow[n \\to \\infty]{\\mathbb{P}} 0$.\n",
    "\n",
    "По пункту а) знаем, что $\\lim \\limits_{n \\to \\infty} P(J_n = 0) = 1$, поэтому $\\tilde \\theta \\xrightarrow[n \\to \\infty]{\\text{п.н.}} \\hat \\theta$.\n",
    "Значит, $$\\forall \\varepsilon > 0: \\lim \\limits_{n \\to \\infty} P(|\\theta - \\tilde \\theta| > \\varepsilon) = P(|\\theta - \\hat \\theta| > \\varepsilon) = P\\left(|\\sqrt n (\\overline X - \\hat \\theta)| > \\sqrt{n}\\varepsilon \\right) =$$ $$= 1 - P\\left(\\sqrt n (\\overline X - \\hat \\theta) \\leq \\sqrt{n}\\varepsilon \\right) + P\\left(\\sqrt n (\\overline X - \\hat \\theta) < - \\sqrt{n}\\varepsilon \\right)$$\n",
    "Поскольку по ЦПТ  $\\sqrt n (\\overline X - \\hat \\theta) \\xrightarrow[n \\to \\infty]{d} \\mathcal{N}(0, 1)$, то \n",
    "$$\\lim \\limits_{n \\to \\infty} P(|\\theta - \\tilde \\theta| > \\varepsilon)  = 1 - 1 + 0 = 0$$ ЧТД.\n"
   ]
  }
 ],
 "metadata": {
  "kernelspec": {
   "display_name": "Python 3",
   "language": "python",
   "name": "python3"
  },
  "language_info": {
   "codemirror_mode": {
    "name": "ipython",
    "version": 3
   },
   "file_extension": ".py",
   "mimetype": "text/x-python",
   "name": "python",
   "nbconvert_exporter": "python",
   "pygments_lexer": "ipython3",
   "version": "3.5.2"
  }
 },
 "nbformat": 4,
 "nbformat_minor": 2
}
